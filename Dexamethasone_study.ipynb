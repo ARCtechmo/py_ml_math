{
 "cells": [
  {
   "cell_type": "code",
   "execution_count": 2,
   "id": "e1b6497d",
   "metadata": {},
   "outputs": [],
   "source": [
    "import numpy as np\n",
    "import sympy as sym\n",
    "import pandas as pd\n",
    "import matplotlib.pyplot as plt\n",
    "import math\n",
    "from scipy.stats import norm\n",
    "import scipy.stats as stats"
   ]
  },
  {
   "cell_type": "code",
   "execution_count": null,
   "id": "0737ac02",
   "metadata": {},
   "outputs": [],
   "source": []
  },
  {
   "cell_type": "code",
   "execution_count": 6,
   "id": "cba65212",
   "metadata": {},
   "outputs": [
    {
     "name": "stdout",
     "output_type": "stream",
     "text": [
      "Sp (pooled standard deviation): 13.835\n",
      "t-statistic: -2.71\n",
      "Critical value (two-tailed): ±1.977\n",
      "Reject the null hypothesis: There is a significant difference between the two population means.\n",
      "\n",
      "p-value approach\n",
      "p-value: 0.0075\n",
      "Reject the null hypothesis.\n",
      "\n",
      "critical value: 1.977\n",
      "x_bar_1 - x_bar_2: -6.2\n",
      "ME: 4.53\n",
      "confidence interval: -6.2 +- 4.53\n",
      "upperbound: -1.67\n",
      "lowerbound: -10.73\n"
     ]
    }
   ],
   "source": [
    "# Dexamethasone Group vs Control Group\n",
    "# Pooled t-test on Full IQ\n",
    "\n",
    "# Input alpha\n",
    "alpha = 0.05\n",
    "\n",
    "# enter the test type\n",
    "test_type = 'two'  # Options: 'right', 'left', 'two'\n",
    "\n",
    "# enter the variables\n",
    "x1 = 78.2\n",
    "s1 = 15\n",
    "n1 = 72\n",
    "\n",
    "x2 = 84.4\n",
    "s2 = 12.6\n",
    "n2 = 74\n",
    "\n",
    "# Degrees of freedom for t-distribution\n",
    "df = n1 + n2 - 2\n",
    "\n",
    "# Calculate the pooled sample standard deviation\n",
    "pooled_std = np.sqrt(((n1 - 1)*(s1**2) + (n2-1)*(s2**2)) / (n1 + n2 - 2))\n",
    "pooled_std = round(pooled_std, 3)\n",
    "print(f'Sp (pooled standard deviation): {pooled_std}')\n",
    "\n",
    "# Calculate the test statistic (t-test for independent samples)\n",
    "t_statistic = (x1 - x2) / (pooled_std * np.sqrt((1/n1) + (1/n2)))\n",
    "t_statistic = round(t_statistic, 2)\n",
    "print(f't-statistic: {t_statistic}')\n",
    "\n",
    "# Determine critical t-value based on the test type\n",
    "if test_type == 'right':\n",
    "    t_critical = stats.t.ppf(1 - alpha, df)\n",
    "    t_critical = round(t_critical, 3)\n",
    "    print(f'Critical value (right-tailed): {t_critical}')\n",
    "    \n",
    "    # Reject if t-statistic is greater than the critical value\n",
    "    if t_statistic > t_critical:\n",
    "        print(\"Reject the null hypothesis: Population 1 mean is significantly greater than Population 2 mean.\")\n",
    "    else:\n",
    "        print(\"Fail to reject the null hypothesis: Not enough evidence to conclude Population 1 mean is greater.\")\n",
    "\n",
    "elif test_type == 'left':\n",
    "    t_critical = stats.t.ppf(alpha, df)\n",
    "    t_critical = round(t_critical, 3)\n",
    "    print(f'Critical value (left-tailed): {t_critical}')\n",
    "    \n",
    "    # Reject if t-statistic is less than the critical value\n",
    "    if t_statistic < t_critical:\n",
    "        print(\"Reject the null hypothesis: Population 1 mean is significantly less than Population 2 mean.\")\n",
    "    else:\n",
    "        print(\"Fail to reject the null hypothesis: Not enough evidence to conclude Population 1 mean is less.\")\n",
    "\n",
    "elif test_type == 'two':\n",
    "    t_critical = stats.t.ppf(1 - alpha / 2, df)\n",
    "    t_critical = round(t_critical, 3)\n",
    "    print(f'Critical value (two-tailed): ±{t_critical}')\n",
    "    \n",
    "    # Reject if absolute value of t-statistic is greater than the critical value\n",
    "    if abs(t_statistic) > t_critical:\n",
    "        print(\"Reject the null hypothesis: There is a significant difference between the two population means.\")\n",
    "    else:\n",
    "        print(\"Fail to reject the null hypothesis: No significant difference between the two population means.\")\n",
    "\n",
    "else:\n",
    "    print(\"Invalid test type. Please choose 'right', 'left', or 'two'.\")\n",
    "    \n",
    "    \n",
    "    \n",
    "# P-Value Approach\n",
    "print(\"\\np-value approach\")\n",
    "\n",
    "# Calculate p-value for two-tailed test\n",
    "p_value = 2 * (1 - stats.t.cdf(abs(t_statistic), df))\n",
    "p_value = round(p_value, 4)\n",
    "print(f'p-value: {p_value}')\n",
    "# Decision based on p-value\n",
    "if p_value < alpha:\n",
    "    print(\"Reject the null hypothesis.\")\n",
    "else:\n",
    "    print(\"Fail to reject the null hypothesis.\")\n",
    "    \n",
    "    \n",
    "print()    \n",
    "# Determine critical t-value for 95% confidence level (two-tailed test)\n",
    "t_critical = stats.t.ppf(1 - alpha/2, df)\n",
    "t_critical = round(t_critical,3)\n",
    "print(f'critical value: {t_critical}')\n",
    "\n",
    "\n",
    "# differnece of sample means\n",
    "mean_diff = x1 - x2\n",
    "mean_diff = round(mean_diff,2)\n",
    "print(f'x_bar_1 - x_bar_2: {mean_diff}')\n",
    "\n",
    "# calclate margin of error\n",
    "margin_of_error = t_critical * ((pooled_std)*(np.sqrt((1/n1) + (1/n2))))\n",
    "margin_of_error = round(margin_of_error,2)\n",
    "print(f'ME: {margin_of_error}')\n",
    "\n",
    "# Confidence interval for the difference of the means\n",
    "confidence_interval_lower = (x1 - x2) - margin_of_error\n",
    "confidence_interval_lower = round(confidence_interval_lower,2)\n",
    "confidence_interval_upper = (x1 - x2) + margin_of_error\n",
    "confidence_interval_upper = round(confidence_interval_upper,2)\n",
    "print(f'confidence interval: {mean_diff} +- {margin_of_error}')\n",
    "print(f'upperbound: {mean_diff + margin_of_error}')\n",
    "print(f'lowerbound: {mean_diff - margin_of_error}')"
   ]
  },
  {
   "cell_type": "code",
   "execution_count": 7,
   "id": "f3bb198b",
   "metadata": {},
   "outputs": [],
   "source": [
    "# Dexamethasone Group vs Control Group\n",
    "# Pooled t-test on Verbal IQ\n",
    "\n",
    "\n"
   ]
  },
  {
   "cell_type": "code",
   "execution_count": 7,
   "id": "85091809",
   "metadata": {},
   "outputs": [],
   "source": [
    "# Dexamethasone Group vs Control Group\n",
    "# Pooled t-test on Performance IQ\n",
    "\n",
    "\n"
   ]
  },
  {
   "cell_type": "code",
   "execution_count": 7,
   "id": "3ff8ed16",
   "metadata": {},
   "outputs": [],
   "source": [
    "# Dexamethasone Group vs Control Group\n",
    "# Pooled t-test on Verbal Comprehension\n",
    "\n",
    "\n"
   ]
  },
  {
   "cell_type": "code",
   "execution_count": 7,
   "id": "f9a09291",
   "metadata": {},
   "outputs": [],
   "source": [
    "# Dexamethasone Group vs Control Group\n",
    "# Pooled t-test on Perceptual Orgnization \n",
    "\n",
    "\n"
   ]
  },
  {
   "cell_type": "code",
   "execution_count": 7,
   "id": "27ee81d0",
   "metadata": {},
   "outputs": [],
   "source": [
    "# Dexamethasone Group vs Control Group\n",
    "# Pooled t-test on Freedom from Distractibility\n",
    "\n",
    "\n"
   ]
  },
  {
   "cell_type": "code",
   "execution_count": 7,
   "id": "1ff84474",
   "metadata": {},
   "outputs": [],
   "source": [
    "# Dexamethasone Group vs Control Group\n",
    "# Pooled t-test on Processing Speed\n",
    "\n",
    "\n"
   ]
  },
  {
   "cell_type": "code",
   "execution_count": null,
   "id": "94f99e16",
   "metadata": {},
   "outputs": [],
   "source": []
  }
 ],
 "metadata": {
  "kernelspec": {
   "display_name": "Python 3 (ipykernel)",
   "language": "python",
   "name": "python3"
  },
  "language_info": {
   "codemirror_mode": {
    "name": "ipython",
    "version": 3
   },
   "file_extension": ".py",
   "mimetype": "text/x-python",
   "name": "python",
   "nbconvert_exporter": "python",
   "pygments_lexer": "ipython3",
   "version": "3.11.4"
  }
 },
 "nbformat": 4,
 "nbformat_minor": 5
}
