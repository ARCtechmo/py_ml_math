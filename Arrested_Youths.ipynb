{
 "cells": [
  {
   "cell_type": "code",
   "execution_count": 3,
   "id": "e1b6497d",
   "metadata": {},
   "outputs": [],
   "source": [
    "import numpy as np\n",
    "import sympy as sym\n",
    "import pandas as pd\n",
    "import matplotlib.pyplot as plt\n",
    "import math\n",
    "from scipy.stats import norm\n",
    "import scipy.stats as stats"
   ]
  },
  {
   "cell_type": "code",
   "execution_count": null,
   "id": "0737ac02",
   "metadata": {},
   "outputs": [],
   "source": []
  },
  {
   "cell_type": "code",
   "execution_count": null,
   "id": "341a3216",
   "metadata": {},
   "outputs": [],
   "source": [
    "# Inferences for Population Proportions\n",
    "# Arrested Youths"
   ]
  },
  {
   "cell_type": "code",
   "execution_count": null,
   "id": "c17217cf",
   "metadata": {},
   "outputs": [],
   "source": []
  },
  {
   "cell_type": "code",
   "execution_count": 11,
   "id": "b430a513",
   "metadata": {},
   "outputs": [
    {
     "data": {
      "text/plain": [
       "{'point_estimate': 0.3017703426993666,\n",
       " 'confidence_interval': (0.2903046330961822, 0.31323605230255097),\n",
       " 'z_statistic (p0 = 1/3)': -5.253744884309084,\n",
       " 'p_value (left-tailed)': 7.451864329992984e-08}"
      ]
     },
     "execution_count": 11,
     "metadata": {},
     "output_type": "execute_result"
    }
   ],
   "source": [
    "# One-population z-test procedures added to existing code\n",
    "\n",
    "# Given values\n",
    "x = 1858  # number of successes (arrested)\n",
    "n = 6157  # sample size\n",
    "alpha = 0.05\n",
    "\n",
    "# Point estimate (sample proportion)\n",
    "p_hat = x / n\n",
    "\n",
    "# Standard error for confidence interval\n",
    "z_critical = norm.ppf(1 - alpha/2)  # 95% confidence level, two-tailed\n",
    "se = math.sqrt((p_hat * (1 - p_hat)) / n)\n",
    "margin_of_error = z_critical * se\n",
    "ci_lower = p_hat - margin_of_error\n",
    "ci_upper = p_hat + margin_of_error\n",
    "\n",
    "# One-proportion z-test against p0 = 1/3 (Part c setup)\n",
    "p0 = 1/3\n",
    "se_null = math.sqrt(p0 * (1 - p0) / n)\n",
    "z_stat = (p_hat - p0) / se_null\n",
    "p_value = norm.cdf(z_stat)  # Left-tailed test\n",
    "\n",
    "{\n",
    "    \"point_estimate\": p_hat,\n",
    "    \"confidence_interval\": (ci_lower, ci_upper),\n",
    "    \"z_statistic (p0 = 1/3)\": z_stat,\n",
    "    \"p_value (left-tailed)\": p_value\n",
    "}\n"
   ]
  },
  {
   "cell_type": "code",
   "execution_count": null,
   "id": "0f240196",
   "metadata": {},
   "outputs": [],
   "source": []
  },
  {
   "cell_type": "code",
   "execution_count": 12,
   "id": "6a7a8f40",
   "metadata": {},
   "outputs": [
    {
     "data": {
      "text/plain": [
       "{'z_statistic (p0 = 0.22)': 15.48894197913472, 'p_value (right-tailed)': 0.0}"
      ]
     },
     "execution_count": 12,
     "metadata": {},
     "output_type": "execute_result"
    }
   ],
   "source": [
    "# One-proportion z-test for Part (d)\n",
    "# Null hypothesis: p = 0.22\n",
    "# Alternative hypothesis: p > 0.22 (right-tailed test)\n",
    "\n",
    "p0_d = 0.22  # historical proportion\n",
    "se_null_d = math.sqrt(p0_d * (1 - p0_d) / n)\n",
    "z_stat_d = (p_hat - p0_d) / se_null_d\n",
    "p_value_d = 1 - norm.cdf(z_stat_d)  # right-tailed test\n",
    "\n",
    "{\n",
    "    \"z_statistic (p0 = 0.22)\": z_stat_d,\n",
    "    \"p_value (right-tailed)\": p_value_d\n",
    "}\n"
   ]
  },
  {
   "cell_type": "code",
   "execution_count": null,
   "id": "779ab6a3",
   "metadata": {},
   "outputs": [],
   "source": []
  }
 ],
 "metadata": {
  "kernelspec": {
   "display_name": "Python 3 (ipykernel)",
   "language": "python",
   "name": "python3"
  },
  "language_info": {
   "codemirror_mode": {
    "name": "ipython",
    "version": 3
   },
   "file_extension": ".py",
   "mimetype": "text/x-python",
   "name": "python",
   "nbconvert_exporter": "python",
   "pygments_lexer": "ipython3",
   "version": "3.11.4"
  }
 },
 "nbformat": 4,
 "nbformat_minor": 5
}
