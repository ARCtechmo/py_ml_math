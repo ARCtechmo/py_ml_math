{
 "cells": [
  {
   "cell_type": "code",
   "execution_count": 1,
   "id": "a023b950",
   "metadata": {},
   "outputs": [],
   "source": [
    "from math import comb\n",
    "from itertools import combinations\n",
    "import random"
   ]
  },
  {
   "cell_type": "code",
   "execution_count": 2,
   "id": "af4486ac",
   "metadata": {},
   "outputs": [
    {
     "name": "stdout",
     "output_type": "stream",
     "text": [
      "[(1, 2), (1, 3), (1, 4), (2, 3), (2, 4), (3, 4)]\n"
     ]
    }
   ],
   "source": [
    "# Exercise Set 1.2\n",
    "# 1.36 - 1.38\n",
    "# a combination problem\n",
    "population = [1,2,3,4]\n",
    "samples2 = list(combinations(population, 2))\n",
    "print(samples2)"
   ]
  },
  {
   "cell_type": "code",
   "execution_count": null,
   "id": "f2fa5719",
   "metadata": {},
   "outputs": [],
   "source": []
  },
  {
   "cell_type": "code",
   "execution_count": 3,
   "id": "b0ebab15",
   "metadata": {},
   "outputs": [
    {
     "name": "stdout",
     "output_type": "stream",
     "text": [
      "10\n",
      "0.1\n",
      "The probability of selecting a particular combination of 3 from a population of 5 is 0.1\n"
     ]
    }
   ],
   "source": [
    "\n",
    "# Exercise Set 1.2\n",
    "# 1.36 - 1.38\n",
    "# a combination problem\n",
    "from math import comb\n",
    "pop_size = 5\n",
    "sample_size = 3\n",
    "total_comb = comb(pop_size, sample_size)\n",
    "print(total_comb)\n",
    "prob_of_particular_comb = 1 / total_comb\n",
    "print(prob_of_particular_comb)\n",
    "message = (\n",
    "f'The probability of selecting a particular combination of {sample_size}'\n",
    "f' from a population of {pop_size} is {prob_of_particular_comb}' \n",
    ")\n",
    "print(message)"
   ]
  },
  {
   "cell_type": "code",
   "execution_count": null,
   "id": "20b4c6a6",
   "metadata": {},
   "outputs": [],
   "source": []
  },
  {
   "cell_type": "code",
   "execution_count": 4,
   "id": "770809a2",
   "metadata": {},
   "outputs": [
    {
     "name": "stdout",
     "output_type": "stream",
     "text": [
      "10\n",
      "0.1\n",
      "The probability of selecting a particular combination of 3 from a population of 5 is 0.1\n",
      "The possible combinations are:\n",
      "(1, 2, 3)\n",
      "(1, 2, 4)\n",
      "(1, 2, 5)\n",
      "(1, 3, 4)\n",
      "(1, 3, 5)\n",
      "(1, 4, 5)\n",
      "(2, 3, 4)\n",
      "(2, 3, 5)\n",
      "(2, 4, 5)\n",
      "(3, 4, 5)\n"
     ]
    }
   ],
   "source": [
    "# Exercise Set 1.2\n",
    "# 1.36 - 1.38\n",
    "# a combination problem\n",
    "from math import comb\n",
    "from itertools import combinations\n",
    "pop_size = 5\n",
    "sample_size = 3\n",
    "total_comb = comb(pop_size, sample_size)\n",
    "print(total_comb)\n",
    "prob_of_particular_comb = 1 / total_comb\n",
    "print(prob_of_particular_comb)\n",
    "message = (\n",
    "f'The probability of selecting a particular combination of {sample_size}'\n",
    "f' from a population of {pop_size} is {prob_of_particular_comb}' \n",
    ")\n",
    "print(message)\n",
    "\n",
    "# list the possible combinations\n",
    "population = range(1, pop_size + 1)\n",
    "possible_combinations = list(combinations(population, sample_size))\n",
    "print(\"The possible combinations are:\")\n",
    "for combo in possible_combinations:\n",
    "    print(combo)"
   ]
  },
  {
   "cell_type": "code",
   "execution_count": null,
   "id": "185b021f",
   "metadata": {},
   "outputs": [],
   "source": []
  },
  {
   "cell_type": "code",
   "execution_count": null,
   "id": "899c6ac2",
   "metadata": {},
   "outputs": [],
   "source": [
    "# Exercise Set 1.2\n",
    "# 1.42 - 1.43\n",
    "# a combination problem\n",
    "from math import comb\n",
    "from itertools import combinations\n",
    "population = ['G', 'L', 'S', 'A', 'T']\n",
    "pop_size = len(population)\n",
    "sample_size = 3\n",
    "total_comb = comb(pop_size, sample_size)\n",
    "prob_of_particular_comb = 1 / total_comb\n",
    "message = (\n",
    "    f'The probability of selecting a particular combination of {sample_size}'\n",
    "    f' from a population of {pop_size} is {prob_of_particular_comb}' \n",
    ")\n",
    "\n",
    "print(message)\n",
    "possible_combinations = list(combinations(population, sample_size))\n",
    "print(\"The possible combinations are:\")\n",
    "for combo in possible_combinations:\n",
    "    print(combo)"
   ]
  },
  {
   "cell_type": "code",
   "execution_count": null,
   "id": "5bbcd7bc",
   "metadata": {},
   "outputs": [],
   "source": [
    "# Exercise Set 1.2\n",
    "# 1.44 - 1.45\n",
    "# combinaation problem\n",
    "from itertools import combinations\n",
    "population =  ['F','T','G','H','L','B','A']\n",
    "sample_size = 2\n",
    "possible_combinations = list(combinations(population, sample_size))\n",
    "for combo in possible_combinations:\n",
    "    print(combo)"
   ]
  },
  {
   "cell_type": "code",
   "execution_count": null,
   "id": "1a3d1640",
   "metadata": {},
   "outputs": [],
   "source": []
  },
  {
   "cell_type": "code",
   "execution_count": null,
   "id": "d7c843d0",
   "metadata": {},
   "outputs": [],
   "source": [
    "# Exercise Set 1.2\n",
    "# 1.48\n",
    "# simulate a game of keno\n",
    "# 20 random numbers draw from 1-80\n",
    "import random\n",
    "# Simulate drawing 20 numbers from a range of 1 to 80\n",
    "keno_numbers = random.sample(range(1,81),20)\n",
    "print(\"Simulated Keno Draw\")\n",
    "print(keno_numbers)"
   ]
  },
  {
   "cell_type": "code",
   "execution_count": null,
   "id": "e8d309e7",
   "metadata": {},
   "outputs": [],
   "source": []
  },
  {
   "cell_type": "code",
   "execution_count": 13,
   "id": "fe4052c5",
   "metadata": {},
   "outputs": [
    {
     "name": "stdout",
     "output_type": "stream",
     "text": [
      "Choose the population size: 728\n",
      "Choose the sample size: 15\n",
      "The random number is 22\n",
      "22\n",
      "22+48 = 70\n",
      "70+48 = 118\n",
      "118+48 = 166\n",
      "166+48 = 214\n",
      "214+48 = 262\n",
      "262+48 = 310\n",
      "310+48 = 358\n",
      "358+48 = 406\n",
      "406+48 = 454\n",
      "454+48 = 502\n",
      "502+48 = 550\n",
      "550+48 = 598\n",
      "598+48 = 646\n",
      "646+48 = 694\n",
      "694+48 = 742\n"
     ]
    }
   ],
   "source": [
    "# Systematic Random Sampling\n",
    "# Example 1.10\n",
    "import random\n",
    "\n",
    "# population\n",
    "N = int(input('Choose the population size: '))\n",
    "\n",
    "# sample size\n",
    "n = int(input('Choose the sample size: '))\n",
    "\n",
    "m = int(N/n) # no decimal an round down\n",
    "\n",
    "# choose a random number between the 1 and m\n",
    "k = random.randint(1,m)\n",
    "\n",
    "# optional hard code k-value to check answers with the book\n",
    "# k =22\n",
    "\n",
    "print(f\"The random number is {k}\")\n",
    "\n",
    "# sample size (k, k+m, k+2m, k+ 3m...k+15m)\n",
    "# first sample starts with k, \n",
    "# then add m to to each subsequent number until you reach n.\n",
    "print(k)\n",
    "for i in range(1,n):\n",
    "    print(f'{k}+{m} =',k+m)\n",
    "    k = k+m  "
   ]
  },
  {
   "cell_type": "code",
   "execution_count": null,
   "id": "d76777bf",
   "metadata": {},
   "outputs": [],
   "source": []
  },
  {
   "cell_type": "code",
   "execution_count": null,
   "id": "acfd54ec",
   "metadata": {},
   "outputs": [],
   "source": []
  },
  {
   "cell_type": "code",
   "execution_count": 9,
   "id": "aa1623e7",
   "metadata": {},
   "outputs": [
    {
     "name": "stdout",
     "output_type": "stream",
     "text": [
      "cluster 1: 1-20\n",
      "cluster 2: 21-40\n",
      "cluster 3: 41-60\n",
      "cluster 4: 61-80\n",
      "cluster 5: 81-100\n",
      "cluster 6: 101-120\n",
      "cluster 7: 121-140\n",
      "cluster 8: 141-160\n",
      "cluster 9: 161-180\n",
      "cluster 10: 181-200\n",
      "cluster 11: 201-220\n",
      "cluster 12: 221-240\n",
      "cluster 13: 241-260\n",
      "cluster 14: 261-280\n",
      "cluster 15: 281-300\n",
      "\n",
      "-----Sampled Clusters-----\n",
      "random sample cluster #9.\n",
      "random sample cluster #9.\n",
      "random sample cluster #7.\n"
     ]
    }
   ],
   "source": [
    "# cluster sampling \n",
    "# examples 1.12, 1.61\n",
    "import random\n",
    "\n",
    "# population size\n",
    "N = int(input(\"population size: \"))\n",
    "\n",
    "cl_size = int(input(\"cluster size: \"))\n",
    "\n",
    "# sample size per cluster\n",
    "n = int(input(\"total sample size needed when clusters added together \"))\n",
    "\n",
    "# calculate number of clusters\n",
    "num_clusters = int(N / cl_size)\n",
    " \n",
    "print(f'number of clusters {num_clusters}')\n",
    "\n",
    "# sample of clusters needed\n",
    "number_of_cluster_samples_needed = int(n / cl_size)\n",
    "print(f'{number_of_cluster_samples_needed} samples needed from the {num_clusters} clusters\\n')\n",
    "\n",
    "\n",
    "# empty list will contain the clusters\n",
    "cl_list = []\n",
    "\n",
    "# Create a list of cluster indices\n",
    "cl_indices = list(range(num_clusters))\n",
    "\n",
    "# create the clusters \n",
    "for cl_index in cl_indices:\n",
    "    cl_start = cl_index * cl_size + 1\n",
    "    cl_end = (cl_index + 1) * cl_size\n",
    "    if cl_end > N:\n",
    "        cl_end = N\n",
    "    print(f'Cluster {cl_index + 1} (Range {cl_start}-{cl_end}):')\n",
    "    \n",
    "    # create list of clusters\n",
    "    cl_list.append(f'Cluster {cl_index + 1} (Range {cl_start}-{cl_end}):')\n",
    "\n",
    "\n",
    "# sample the list of the clusters\n",
    "cluster_sample = random.sample(cl_list, number_of_cluster_samples_needed)\n",
    "print('\\nsampled clusters: ', cluster_sample)"
   ]
  },
  {
   "cell_type": "code",
   "execution_count": null,
   "id": "deedaab0",
   "metadata": {},
   "outputs": [],
   "source": [
    "# Systematic Random Sampling\n",
    "# exercise set 1.3\n",
    "# 1.59, 1.60\n",
    "import random\n",
    "\n",
    "# population\n",
    "N = int(input('Choose the population size: '))\n",
    "\n",
    "# sample size\n",
    "n = int(input('Choose the sample size: '))\n",
    "\n",
    "m = int(N/n) # no decimal an round down\n",
    "\n",
    "# choose a random number between the 1 and m\n",
    "# k = random.randint(1,m)\n",
    "\n",
    "# optional hard code k-value to check answers with the book\n",
    "k =48\n",
    "\n",
    "print(f\"The random number is {k}\")\n",
    "\n",
    "# sample size (k, k+m, k+2m, k+ 3m...k+15m)\n",
    "# first sample starts with k, \n",
    "# then add m to to each subsequent number until you reach n.\n",
    "print(k)\n",
    "for i in range(1,n):\n",
    "    print(f'{k}+{m} =',k+m)\n",
    "    k = k + m"
   ]
  },
  {
   "cell_type": "code",
   "execution_count": null,
   "id": "1561d4db",
   "metadata": {},
   "outputs": [],
   "source": []
  },
  {
   "cell_type": "code",
   "execution_count": null,
   "id": "43225805",
   "metadata": {},
   "outputs": [],
   "source": []
  },
  {
   "cell_type": "code",
   "execution_count": 23,
   "id": "2bd9a4aa",
   "metadata": {},
   "outputs": [
    {
     "name": "stdout",
     "output_type": "stream",
     "text": [
      "population size: 100\n",
      "cluster size: 10\n",
      "total sample size needed when clusters added together 30\n",
      "number of clusters 10\n",
      "3 samples needed from the 10 clusters\n",
      "\n",
      "Cluster 1 (Range 1-10):\n",
      "Cluster 2 (Range 11-20):\n",
      "Cluster 3 (Range 21-30):\n",
      "Cluster 4 (Range 31-40):\n",
      "Cluster 5 (Range 41-50):\n",
      "Cluster 6 (Range 51-60):\n",
      "Cluster 7 (Range 61-70):\n",
      "Cluster 8 (Range 71-80):\n",
      "Cluster 9 (Range 81-90):\n",
      "Cluster 10 (Range 91-100):\n",
      "\n",
      "sampled clusters:  ['Cluster 8 (Range 71-80):', 'Cluster 4 (Range 31-40):', 'Cluster 3 (Range 21-30):']\n"
     ]
    }
   ],
   "source": [
    "# cluster sampling \n",
    "# exercise set 1.3\n",
    "# example 1.12, 1.61, 1.62\n",
    "import random\n",
    "\n",
    "# population size\n",
    "N = int(input(\"population size: \"))\n",
    "\n",
    "cl_size = int(input(\"cluster size: \"))\n",
    "\n",
    "# sample size per cluster\n",
    "n = int(input(\"total sample size needed when clusters added together \"))\n",
    "\n",
    "# calculate number of clusters\n",
    "num_clusters = int(N / cl_size)\n",
    " \n",
    "print(f'number of clusters {num_clusters}')\n",
    "\n",
    "# sample of clusters needed\n",
    "number_of_cluster_samples_needed = int(n / cl_size)\n",
    "print(f'{number_of_cluster_samples_needed} samples needed from the {num_clusters} clusters\\n')\n",
    "\n",
    "\n",
    "# empty list will contain the clusters\n",
    "cl_list = []\n",
    "\n",
    "# Create a list of cluster indices\n",
    "cl_indices = list(range(num_clusters))\n",
    "\n",
    "# create the clusters \n",
    "for cl_index in cl_indices:\n",
    "    cl_start = cl_index * cl_size + 1\n",
    "    cl_end = (cl_index + 1) * cl_size\n",
    "    if cl_end > N:\n",
    "        cl_end = N\n",
    "    print(f'Cluster {cl_index + 1} (Range {cl_start}-{cl_end}):')\n",
    "    \n",
    "    # create list of clusters\n",
    "    cl_list.append(f'Cluster {cl_index + 1} (Range {cl_start}-{cl_end}):')\n",
    "\n",
    "\n",
    "# sample the list of the clusters\n",
    "cluster_sample = random.sample(cl_list, number_of_cluster_samples_needed)\n",
    "print('\\nsampled clusters: ', cluster_sample)\n"
   ]
  },
  {
   "cell_type": "code",
   "execution_count": null,
   "id": "8a3ba85a",
   "metadata": {},
   "outputs": [],
   "source": []
  },
  {
   "cell_type": "code",
   "execution_count": null,
   "id": "cae326f0",
   "metadata": {},
   "outputs": [],
   "source": []
  },
  {
   "cell_type": "code",
   "execution_count": 57,
   "id": "000f142a",
   "metadata": {},
   "outputs": [
    {
     "name": "stdout",
     "output_type": "stream",
     "text": [
      "Enter the population size: 500\n",
      "Enter the total sample size needed: 10\n",
      "Enter the sizes of strata (format: size1,size2,size3,...): 200,150,150\n",
      "\n",
      "Strata info (Lower Bound - Upper Bound : Proportion - Sample Size)\n",
      "Stratum 1: 1-200 : 0.4 - 4\n",
      "Stratum 2: 201-350 : 0.3 - 3\n",
      "Stratum 3: 351-500 : 0.3 - 3\n",
      "\n",
      "Proportional random sample from Stratum 1: [141, 55, 132, 117]\n",
      "Proportional random sample from Stratum 2: [281, 308, 289]\n",
      "Proportional random sample from Stratum 3: [426, 396, 496]\n"
     ]
    }
   ],
   "source": [
    "# Stratified random sampling with proportional allocation\n",
    "\n",
    "# Population size\n",
    "N = int(input(\"Enter the population size: \"))\n",
    "\n",
    "# Total sample size needed when clusters are added together\n",
    "total_sample_size = int(input(\"Enter the total sample size needed: \"))\n",
    "\n",
    "# Input the sizes of strata\n",
    "strata_sizes_input = input(\"Enter the sizes of strata (format: size1,size2,size3,...): \")\n",
    "strata_sizes = [int(size) for size in strata_sizes_input.split(',') if size.isnumeric()]\n",
    "\n",
    "# Calculate the proportion of each stratum in the population\n",
    "strata_proportions = [size / N for size in strata_sizes]\n",
    "\n",
    "# Calculate the number of samples from each stratum\n",
    "sample_sizes = [int(total_sample_size * proportion) for proportion in strata_proportions]\n",
    "\n",
    "# Calculate the lower and upper bounds for each stratum\n",
    "strata_bounds = [(sum(strata_sizes[:i]) + 1, sum(strata_sizes[:i]) + size) for i, size in enumerate(strata_sizes)]\n",
    "\n",
    "# Display strata information on a single line\n",
    "print(\"\\nStrata info (Lower Bound - Upper Bound : Proportion - Sample Size)\")\n",
    "for i, (lower, upper) in enumerate(strata_bounds):\n",
    "    print(f\"Stratum {i + 1}: {lower}-{upper} : {strata_proportions[i]:.1f} - {sample_sizes[i]}\")\n",
    "\n",
    "# Take the proportional random sample from each stratum\n",
    "sampled_data_by_stratum = []\n",
    "for lower, upper, size in zip([bound[0] for bound in strata_bounds], [bound[1] for bound in strata_bounds], sample_sizes):\n",
    "    stratum_sample = random.sample(range(lower, upper + 1), size)\n",
    "    sampled_data_by_stratum.append(stratum_sample)\n",
    "\n",
    "print()\n",
    "\n",
    "# Print proportional random samples by stratum\n",
    "for i, stratum_sample in enumerate(sampled_data_by_stratum):\n",
    "    print(f\"Proportional random sample from Stratum {i + 1}:\", stratum_sample)"
   ]
  },
  {
   "cell_type": "code",
   "execution_count": null,
   "id": "45e5cee6",
   "metadata": {},
   "outputs": [],
   "source": []
  }
 ],
 "metadata": {
  "kernelspec": {
   "display_name": "Python 3 (ipykernel)",
   "language": "python",
   "name": "python3"
  },
  "language_info": {
   "codemirror_mode": {
    "name": "ipython",
    "version": 3
   },
   "file_extension": ".py",
   "mimetype": "text/x-python",
   "name": "python",
   "nbconvert_exporter": "python",
   "pygments_lexer": "ipython3",
   "version": "3.11.4"
  }
 },
 "nbformat": 4,
 "nbformat_minor": 5
}
