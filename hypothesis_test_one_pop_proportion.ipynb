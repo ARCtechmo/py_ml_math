{
 "cells": [
  {
   "cell_type": "code",
   "execution_count": 7,
   "id": "ea145a2d",
   "metadata": {},
   "outputs": [],
   "source": [
    "import numpy as np\n",
    "import matplotlib.pyplot as plt\n",
    "from scipy.stats import norm\n",
    "import scipy.stats as stats\n",
    "from scipy.stats import t\n",
    "from math import sqrt"
   ]
  },
  {
   "cell_type": "code",
   "execution_count": 8,
   "id": "51a835b4",
   "metadata": {},
   "outputs": [],
   "source": [
    "# hypothesis test for the population proportion\n",
    "# for these types of problems you are subtracing proportions from a current and old survey data\n",
    "#  p_hat (current) - po (old) if given two numbers\n",
    "# p_hat - 0.5 for a two-tailed test if not give two numbers"
   ]
  },
  {
   "cell_type": "code",
   "execution_count": 9,
   "id": "d708da61",
   "metadata": {},
   "outputs": [
    {
     "name": "stdout",
     "output_type": "stream",
     "text": [
      "alpha: 0.05\n",
      "p_hat: 0.53\n",
      "test_statistic: 1.9115\n",
      "\n",
      "Left-tailed test critical value: -1.6449\n",
      "Right-tailed test critical value: 1.6449\n",
      "Two-tailed test critical value: 1.96\n",
      "\n",
      "Left-tailed test p-value: 0.972\n",
      "Right-tailed test p-value: 0.028\n",
      "Two-tailed test p-value: 0.056\n"
     ]
    }
   ],
   "source": [
    "# Given data\n",
    "n = 1015  # sample size\n",
    "x = 538   # number of successes\n",
    "p0 = 0.5  # hypothesized population proportion\n",
    "alpha = 0.05  # significance level\n",
    "print(f'alpha: {alpha}')\n",
    "\n",
    "# Calculate sample proportion\n",
    "p_hat = x / n\n",
    "p_hat = round(p_hat,2)\n",
    "print(f'p_hat: {p_hat}')\n",
    "\n",
    "# Calculate test statistic (z)\n",
    "z = (p_hat - p0) / np.sqrt((p0 * (1 - p0)) / n)\n",
    "z = round(z, 4)\n",
    "print(f'test_statistic: {z}\\n')\n",
    "\n",
    "\n",
    "# Calculate critical values\n",
    "# Left-tailed test\n",
    "critical_value_left = norm.ppf(alpha)   \n",
    "critical_value_left = round(critical_value_left, 4)\n",
    "\n",
    "# Right-tailed test\n",
    "critical_value_right = norm.ppf(1 - alpha)\n",
    "critical_value_right = round(critical_value_right,4)\n",
    "\n",
    "# Two-tailed test (positive)\n",
    "critical_value_two_tailed = norm.ppf(1 - alpha / 2) \n",
    "critical_value_two_tailed = round(critical_value_two_tailed, 4)\n",
    "\n",
    "print(\"Left-tailed test critical value:\", critical_value_left)\n",
    "print(\"Right-tailed test critical value:\", critical_value_right)\n",
    "print(\"Two-tailed test critical value:\", critical_value_two_tailed)\n",
    "\n",
    "\n",
    "# Calculate p-values for different hypothesis tests\n",
    "# Left-tailed test\n",
    "p_value_left = norm.cdf(z)            \n",
    "p_value_left = round(p_value_left,4)\n",
    "\n",
    "# Right-tailed test\n",
    "p_value_right = 1 - norm.cdf(z)   \n",
    "p_value_right = round(p_value_right, 4)\n",
    "\n",
    "# Two-tailed test\n",
    "p_value_two_tailed = 2 * min(p_value_left, p_value_right) \n",
    "p_value_two_tailed = round(p_value_two_tailed,4)\n",
    "\n",
    "# Print results\n",
    "print(\"\\nLeft-tailed test p-value:\", p_value_left)\n",
    "print(\"Right-tailed test p-value:\", p_value_right)\n",
    "print(\"Two-tailed test p-value:\", p_value_two_tailed)"
   ]
  },
  {
   "cell_type": "code",
   "execution_count": null,
   "id": "f36dfa55",
   "metadata": {},
   "outputs": [],
   "source": []
  },
  {
   "cell_type": "code",
   "execution_count": 10,
   "id": "d8f7e61b",
   "metadata": {},
   "outputs": [
    {
     "name": "stdout",
     "output_type": "stream",
     "text": [
      "Sample proportion (p̂): 0.6\n",
      "Test statistic (z): 1.2992\n",
      "Two-tailed p-value: 0.1939\n",
      "Critical value for two-tailed test: 1.645\n"
     ]
    }
   ],
   "source": [
    "# Given data for the hypothesis test\n",
    "# A problem when give an old proportion value and a new proportion value\n",
    "# compare if there is a change (two-tailed test)\n",
    "\n",
    "# hypothesized population proportion from 2010 (old survey)\n",
    "p0 = 0.58  \n",
    "\n",
    "# sample size (current survey)\n",
    "n = 1028  \n",
    "\n",
    "# significance level\n",
    "alpha = 0.10 \n",
    "\n",
    "# number of successes based on the 60% reported (current survey)\n",
    "x_new = 0.60 * n  \n",
    "\n",
    "# Calculate current sample proportion\n",
    "p_hat = x_new / n\n",
    "p_hat = round(p_hat, 4)\n",
    "\n",
    "# Calculate test statistic (z)\n",
    "z = (p_hat - p0) / sqrt((p0 * (1 - p0)) / n)\n",
    "z = round(z, 4)\n",
    "\n",
    "# Calculate p-value for two-tailed test\n",
    "p_value_two_tailed_new = 2 * (1 - norm.cdf(abs(z)))\n",
    "p_value_two_tailed_new = round(p_value_two_tailed_new, 4)\n",
    "\n",
    "# Calculate critical value for a two-tailed test\n",
    "critical_value_two_tailed_new = norm.ppf(1 - alpha / 2)\n",
    "critical_value_two_tailed_new = round(critical_value_two_tailed_new, 3)\n",
    "\n",
    "# Print results\n",
    "print(\"Sample proportion (p̂):\", p_hat)\n",
    "print(\"Test statistic (z):\", z)\n",
    "print(\"Two-tailed p-value:\", p_value_two_tailed_new)\n",
    "print(\"Critical value for two-tailed test:\", critical_value_two_tailed_new)"
   ]
  },
  {
   "cell_type": "code",
   "execution_count": null,
   "id": "d7708ddb",
   "metadata": {},
   "outputs": [],
   "source": []
  },
  {
   "cell_type": "code",
   "execution_count": 11,
   "id": "78ee863a",
   "metadata": {},
   "outputs": [
    {
     "name": "stdout",
     "output_type": "stream",
     "text": [
      "Sample proportion (p̂): 0.65\n",
      "Test statistic (z): -4.9375\n",
      "Left-tailed test critical value: -1.6449\n",
      "Left-tailed test p-value: 0.0\n"
     ]
    }
   ],
   "source": [
    "# Given data for the hypothesis test\n",
    "# A problem when give an old proportion value and a new proportion value\n",
    "# compare if there is a change (left-tailed test)\n",
    "\n",
    "# hypothesized population proportion from old survey\n",
    "p0 = 0.72\n",
    "\n",
    "# significance level\n",
    "alpha = 0.05\n",
    "\n",
    "# sample size of the current survey\n",
    "n = 1003\n",
    "\n",
    "# number of successes based on the 60% reported in the new survey\n",
    "x_new = 0.65 * n  \n",
    "\n",
    "# Calculate sample proportion\n",
    "p_hat = x_new / n\n",
    "p_hat = round(p_hat, 4)\n",
    "\n",
    "# Calculate test statistic (z)\n",
    "z = (p_hat - p0) / sqrt((p0 * (1 - p0)) / n)\n",
    "z = round(z, 4)\n",
    "\n",
    "# Calculate critical values\n",
    "# Left-tailed test\n",
    "critical_value_left = norm.ppf(alpha)   \n",
    "critical_value_left = round(critical_value_left, 4)\n",
    "\n",
    "# Calculate p-values for different hypothesis tests\n",
    "# Left-tailed test\n",
    "p_value_left = norm.cdf(z)            \n",
    "p_value_left = round(p_value_left,4)\n",
    "\n",
    "# Print results\n",
    "print(\"Sample proportion (p̂):\", p_hat)\n",
    "print(\"Test statistic (z):\", z)\n",
    "print(\"Left-tailed test critical value:\", critical_value_left)\n",
    "print(\"Left-tailed test p-value:\", p_value_left)"
   ]
  },
  {
   "cell_type": "code",
   "execution_count": null,
   "id": "30274ca3",
   "metadata": {},
   "outputs": [],
   "source": []
  },
  {
   "cell_type": "code",
   "execution_count": 12,
   "id": "6d8e3e83",
   "metadata": {},
   "outputs": [
    {
     "name": "stdout",
     "output_type": "stream",
     "text": [
      "Sample proportion (p̂): 0.5204\n",
      "Test statistic (z): 1.324\n",
      "Right-tailed test critical value: 1.6449\n",
      "Right-tailed test p-value: 0.0928\n"
     ]
    }
   ],
   "source": [
    "# Given data for the hypothesis test\n",
    "# A problem when give an old proportion value and a new proportion value\n",
    "# compare if there is a change (right-tailed test)\n",
    "\n",
    "# hypothesized population proportion from 2010\n",
    "p0 = 0.5\n",
    "\n",
    "# significance level\n",
    "alpha = 0.05\n",
    "\n",
    "# sample size\n",
    "n = 1053\n",
    "\n",
    "x = 548\n",
    "\n",
    "# Calculate sample proportion\n",
    "p_hat = x / n\n",
    "p_hat = round(p_hat, 4)\n",
    "\n",
    "# Calculate test statistic (z)\n",
    "z = (p_hat - p0) / sqrt((p0 * (1 - p0)) / n)\n",
    "z = round(z, 4)\n",
    "\n",
    "# Right-tailed test\n",
    "critical_value_right = norm.ppf(1 - alpha)\n",
    "critical_value_right = round(critical_value_right,4)\n",
    "\n",
    "\n",
    "# Right-tailed test\n",
    "p_value_right = 1 - norm.cdf(z)   \n",
    "p_value_right = round(p_value_right, 4)\n",
    "\n",
    "# Print results\n",
    "print(\"Sample proportion (p̂):\", p_hat)\n",
    "print(\"Test statistic (z):\", z)\n",
    "print(\"Right-tailed test critical value:\", critical_value_right)\n",
    "print(\"Right-tailed test p-value:\", p_value_right)\n"
   ]
  },
  {
   "cell_type": "code",
   "execution_count": null,
   "id": "03aceba2",
   "metadata": {},
   "outputs": [],
   "source": []
  }
 ],
 "metadata": {
  "kernelspec": {
   "display_name": "Python 3 (ipykernel)",
   "language": "python",
   "name": "python3"
  },
  "language_info": {
   "codemirror_mode": {
    "name": "ipython",
    "version": 3
   },
   "file_extension": ".py",
   "mimetype": "text/x-python",
   "name": "python",
   "nbconvert_exporter": "python",
   "pygments_lexer": "ipython3",
   "version": "3.11.4"
  }
 },
 "nbformat": 4,
 "nbformat_minor": 5
}
