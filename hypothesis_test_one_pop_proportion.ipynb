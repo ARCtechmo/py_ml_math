{
 "cells": [
  {
   "cell_type": "code",
   "execution_count": 13,
   "id": "d708da61",
   "metadata": {},
   "outputs": [
    {
     "name": "stdout",
     "output_type": "stream",
     "text": [
      "alpha: 0.05\n",
      "p_hat: 0.53\n",
      "test_statistic: 1.9115\n",
      "\n",
      "Left-tailed test critical value: -1.6449\n",
      "Right-tailed test critical value: 1.6449\n",
      "Two-tailed test critical value: 1.96\n",
      "\n",
      "Left-tailed test p-value: 0.972\n",
      "Right-tailed test p-value: 0.028\n",
      "Two-tailed test p-value: 0.056\n"
     ]
    }
   ],
   "source": [
    "# hypothesis test for the population proportion\n",
    "\n",
    "from math import sqrt\n",
    "from scipy.stats import norm\n",
    "\n",
    "# Given data\n",
    "n = 1015  # sample size\n",
    "x = 538   # number of successes\n",
    "p0 = 0.5  # hypothesized population proportion\n",
    "alpha = 0.05  # significance level\n",
    "print(f'alpha: {alpha}')\n",
    "\n",
    "# Calculate sample proportion\n",
    "p_hat = x / n\n",
    "p_hat = round(p_hat,2)\n",
    "print(f'p_hat: {p_hat}')\n",
    "\n",
    "# Calculate test statistic (z)\n",
    "z = (p_hat - p0) / np.sqrt((p0 * (1 - p0)) / n)\n",
    "z = round(z, 4)\n",
    "print(f'test_statistic: {z}\\n')\n",
    "\n",
    "\n",
    "# Calculate critical values\n",
    "# Left-tailed test\n",
    "critical_value_left = norm.ppf(alpha)   \n",
    "critical_value_left = round(critical_value_left, 4)\n",
    "\n",
    "# Right-tailed test\n",
    "critical_value_right = norm.ppf(1 - alpha)\n",
    "critical_value_right = round(critical_value_right,4)\n",
    "\n",
    "# Two-tailed test (positive)\n",
    "critical_value_two_tailed = norm.ppf(1 - alpha / 2) \n",
    "critical_value_two_tailed = round(critical_value_two_tailed, 4)\n",
    "\n",
    "print(\"Left-tailed test critical value:\", critical_value_left)\n",
    "print(\"Right-tailed test critical value:\", critical_value_right)\n",
    "print(\"Two-tailed test critical value:\", critical_value_two_tailed)\n",
    "\n",
    "\n",
    "# Calculate p-values for different hypothesis tests\n",
    "# Left-tailed test\n",
    "p_value_left = norm.cdf(z)            \n",
    "p_value_left = round(p_value_left,4)\n",
    "\n",
    "# Right-tailed test\n",
    "p_value_right = 1 - norm.cdf(z)   \n",
    "p_value_right = round(p_value_right, 4)\n",
    "\n",
    "# Two-tailed test\n",
    "p_value_two_tailed = 2 * min(p_value_left, p_value_right) \n",
    "p_value_two_tailed = round(p_value_two_tailed,4)\n",
    "\n",
    "# Print results\n",
    "print(\"\\nLeft-tailed test p-value:\", p_value_left)\n",
    "print(\"Right-tailed test p-value:\", p_value_right)\n",
    "print(\"Two-tailed test p-value:\", p_value_two_tailed)\n"
   ]
  },
  {
   "cell_type": "code",
   "execution_count": null,
   "id": "f36dfa55",
   "metadata": {},
   "outputs": [],
   "source": []
  }
 ],
 "metadata": {
  "kernelspec": {
   "display_name": "Python 3 (ipykernel)",
   "language": "python",
   "name": "python3"
  },
  "language_info": {
   "codemirror_mode": {
    "name": "ipython",
    "version": 3
   },
   "file_extension": ".py",
   "mimetype": "text/x-python",
   "name": "python",
   "nbconvert_exporter": "python",
   "pygments_lexer": "ipython3",
   "version": "3.11.4"
  }
 },
 "nbformat": 4,
 "nbformat_minor": 5
}
