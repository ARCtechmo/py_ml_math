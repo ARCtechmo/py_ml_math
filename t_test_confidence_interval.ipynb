{
 "cells": [
  {
   "cell_type": "code",
   "execution_count": 32,
   "id": "e1b6497d",
   "metadata": {},
   "outputs": [],
   "source": [
    "import numpy as np\n",
    "import matplotlib.pyplot as plt\n",
    "from scipy.stats import norm\n",
    "import scipy.stats as stats\n",
    "from scipy.stats import t"
   ]
  },
  {
   "cell_type": "code",
   "execution_count": null,
   "id": "f5321a6f",
   "metadata": {},
   "outputs": [],
   "source": []
  },
  {
   "cell_type": "code",
   "execution_count": 34,
   "id": "a9380768",
   "metadata": {},
   "outputs": [
    {
     "name": "stdout",
     "output_type": "stream",
     "text": [
      "critical value: 2.0796\n",
      "margin of errof: 8.06937421714292\n",
      "confidence interval(171.03, 187.17)\n"
     ]
    }
   ],
   "source": [
    "# Estimate the true average amount of time reading emails each day.\n",
    "# Randomly select 22 times from a log and \n",
    "# sample mean is 179.1 minutes. \n",
    "# The standard deviation for these times is 18.2 minutes. \n",
    "# Construct a 95% confidence interval for the true mean amount of time looking at email each day.\n",
    "\n",
    "n = 22\n",
    "x_bar = 179.1\n",
    "sample_std = 18.2\n",
    "alpha = 0.05\n",
    "df = n - 1\n",
    "\n",
    "# critical value\n",
    "# apply a two-tailed t-test to construct the interval \n",
    "critical_value = stats.t.ppf(1 - alpha/2, df)\n",
    "critical_value = round(critical_value, 4)\n",
    "print(f'critical value: {critical_value}')\n",
    "\n",
    "# error\n",
    "error = critical_value * (sample_std / np.sqrt(n))\n",
    "print(f'margin of error: {error}')\n",
    "\n",
    "# confidence interval\n",
    "confidence_interval_left = (x_bar - error)\n",
    "confidence_interval_left = round(confidence_interval_left, 2)\n",
    "\n",
    "\n",
    "confidence_interval_right = (x_bar + error)\n",
    "confidence_interval_right = round(confidence_interval_right, 2)\n",
    "\n",
    "confidence_interval = confidence_interval_left, confidence_interval_right\n",
    "print(f'confidence interval{confidence_interval}')"
   ]
  },
  {
   "cell_type": "code",
   "execution_count": null,
   "id": "fe6e9811",
   "metadata": {},
   "outputs": [],
   "source": []
  }
 ],
 "metadata": {
  "kernelspec": {
   "display_name": "Python 3 (ipykernel)",
   "language": "python",
   "name": "python3"
  },
  "language_info": {
   "codemirror_mode": {
    "name": "ipython",
    "version": 3
   },
   "file_extension": ".py",
   "mimetype": "text/x-python",
   "name": "python",
   "nbconvert_exporter": "python",
   "pygments_lexer": "ipython3",
   "version": "3.11.4"
  }
 },
 "nbformat": 4,
 "nbformat_minor": 5
}
