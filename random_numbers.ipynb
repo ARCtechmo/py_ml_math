{
 "cells": [
  {
   "cell_type": "code",
   "execution_count": 1,
   "id": "e0836dcd",
   "metadata": {},
   "outputs": [],
   "source": [
    "## Random Numbers ##\n",
    "import numpy as np"
   ]
  },
  {
   "cell_type": "code",
   "execution_count": 6,
   "id": "274e2fbb",
   "metadata": {},
   "outputs": [
    {
     "name": "stdout",
     "output_type": "stream",
     "text": [
      "0.2384613947681835\n"
     ]
    }
   ],
   "source": [
    "# Generate a single random float\n",
    "random_float = np.random.rand()\n",
    "print(random_float)"
   ]
  },
  {
   "cell_type": "code",
   "execution_count": 3,
   "id": "30e9cbea",
   "metadata": {},
   "outputs": [
    {
     "name": "stdout",
     "output_type": "stream",
     "text": [
      "[0.22604175 0.86757962 0.53560273 0.66176464 0.12286714]\n"
     ]
    }
   ],
   "source": [
    "# Generate an array of random floats\n",
    "random_float_array = np.random.rand(5)\n",
    "print(random_float_array)"
   ]
  },
  {
   "cell_type": "code",
   "execution_count": 4,
   "id": "23205bff",
   "metadata": {},
   "outputs": [
    {
     "name": "stdout",
     "output_type": "stream",
     "text": [
      "5\n"
     ]
    }
   ],
   "source": [
    "# Generate a single random integer between 0 and 10\n",
    "random_integer = np.random.randint(0,10)\n",
    "print(random_integer)"
   ]
  },
  {
   "cell_type": "code",
   "execution_count": 7,
   "id": "8782da27",
   "metadata": {},
   "outputs": [
    {
     "name": "stdout",
     "output_type": "stream",
     "text": [
      "[4 4 4 9 5]\n"
     ]
    }
   ],
   "source": [
    "# Generate an array of random integers between 0 and 10\n",
    "random_ints = np.random.randint(0,10,size=5)\n",
    "print(random_ints)"
   ]
  },
  {
   "cell_type": "code",
   "execution_count": 8,
   "id": "26665156",
   "metadata": {},
   "outputs": [
    {
     "name": "stdout",
     "output_type": "stream",
     "text": [
      "-1.2823415307782629\n"
     ]
    }
   ],
   "source": [
    "# Generate a single random number from a normal distribution\n",
    "random_normal = np.random.randn()\n",
    "print(random_normal)"
   ]
  },
  {
   "cell_type": "code",
   "execution_count": 11,
   "id": "5e4ba91d",
   "metadata": {},
   "outputs": [
    {
     "name": "stdout",
     "output_type": "stream",
     "text": [
      "[-0.71876738 -0.28195819  0.7310765   0.72097793 -0.09060564]\n"
     ]
    }
   ],
   "source": [
    "# Generate an array of random numbers from a normal distribution\n",
    "random_normal_array = np.random.randn(5)\n",
    "print(random_normal_array)"
   ]
  },
  {
   "cell_type": "code",
   "execution_count": 12,
   "id": "beebbd0c",
   "metadata": {},
   "outputs": [
    {
     "name": "stdout",
     "output_type": "stream",
     "text": [
      "0.6205487382355215\n"
     ]
    }
   ],
   "source": [
    "# Generate a single random number from a uniform distribution between 0 and 1\n",
    "random_uniform = np.random.uniform(0,1)\n",
    "print(random_uniform)"
   ]
  },
  {
   "cell_type": "code",
   "execution_count": 13,
   "id": "f3abe08a",
   "metadata": {},
   "outputs": [
    {
     "name": "stdout",
     "output_type": "stream",
     "text": [
      "[6.96915119 4.22555552 3.47743261 2.15031463 5.01214066]\n"
     ]
    }
   ],
   "source": [
    "# Generate an array of random numbers from a uniform distribution between 0 and 10\n",
    "random_uniform_array = np.random.uniform(0,10,size=5)\n",
    "print(random_uniform_array)"
   ]
  },
  {
   "cell_type": "code",
   "execution_count": 18,
   "id": "c2dcc82c",
   "metadata": {},
   "outputs": [
    {
     "name": "stdout",
     "output_type": "stream",
     "text": [
      "[1 2 3 4 5]\n",
      "2\n",
      "[3 1 1 4 4]\n"
     ]
    }
   ],
   "source": [
    "# Create an array to choose from\n",
    "array = np.array([1,2,3,4,5])\n",
    "print(array)\n",
    "\n",
    "# Select a single random element from the array\n",
    "random_choice = np.random.choice(array)\n",
    "print(random_choice)\n",
    "\n",
    "# Select multiple random elements from the array\n",
    "random_choice_array = np.random.choice(array,size=5)\n",
    "print(random_choice_array)"
   ]
  },
  {
   "cell_type": "code",
   "execution_count": 22,
   "id": "370e1ae6",
   "metadata": {},
   "outputs": [
    {
     "name": "stdout",
     "output_type": "stream",
     "text": [
      "[0 1 2 3 4 5 6 7 8 9]\n",
      "[2 0 8 4 9 3 7 1 6 5]\n"
     ]
    }
   ],
   "source": [
    "# Create a sequence\n",
    "# ensure reproducibility of random numbers\n",
    "sequence = np.arange(10)\n",
    "print(sequence)\n",
    "\n",
    "# Generate a random permutation of the sequence\n",
    "random_permutation = np.random.permutation(sequence)\n",
    "print(random_permutation)"
   ]
  },
  {
   "cell_type": "code",
   "execution_count": 26,
   "id": "5d81feea",
   "metadata": {},
   "outputs": [
    {
     "name": "stdout",
     "output_type": "stream",
     "text": [
      "[0.37454012 0.95071431 0.73199394 0.59865848 0.15601864]\n"
     ]
    }
   ],
   "source": [
    "# Set a random seed\n",
    "np.random.seed(42)\n",
    "\n",
    "# Generate the same random numbers\n",
    "seeded_random_floats = np.random.rand(5)\n",
    "print(seeded_random_floats)"
   ]
  },
  {
   "cell_type": "code",
   "execution_count": null,
   "id": "b4f6f53a",
   "metadata": {},
   "outputs": [],
   "source": []
  }
 ],
 "metadata": {
  "kernelspec": {
   "display_name": "Python 3 (ipykernel)",
   "language": "python",
   "name": "python3"
  },
  "language_info": {
   "codemirror_mode": {
    "name": "ipython",
    "version": 3
   },
   "file_extension": ".py",
   "mimetype": "text/x-python",
   "name": "python",
   "nbconvert_exporter": "python",
   "pygments_lexer": "ipython3",
   "version": "3.11.4"
  }
 },
 "nbformat": 4,
 "nbformat_minor": 5
}
