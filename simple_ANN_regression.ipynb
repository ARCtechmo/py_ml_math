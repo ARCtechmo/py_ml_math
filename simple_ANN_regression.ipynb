{
 "cells": [
  {
   "cell_type": "code",
   "execution_count": null,
   "id": "da27dd09",
   "metadata": {},
   "outputs": [],
   "source": [
    "## ANN Regression ##\n",
    "# This ANN has one hidden layer with ReLU activation and an output layer that predicts a continuous value."
   ]
  },
  {
   "cell_type": "code",
   "execution_count": 3,
   "id": "28499393",
   "metadata": {},
   "outputs": [
    {
     "name": "stdout",
     "output_type": "stream",
     "text": [
      "Predicted output (regression): 0.456962913274765\n"
     ]
    }
   ],
   "source": [
    "## ANN Regression ##\n",
    "\n",
    "import torch\n",
    "import torch.nn as nn\n",
    "import torch.nn.functional as F\n",
    "\n",
    "# Define a simple ANN for regression\n",
    "class ANNRegression(nn.Module):\n",
    "    def __init__(self, input_size, hidden_size):\n",
    "        super(ANNRegression, self).__init__()\n",
    "        self.hidden = nn.Linear(input_size, hidden_size)\n",
    "        self.output = nn.Linear(hidden_size, 1)  # Single output for regression\n",
    "    \n",
    "    def forward(self, x):\n",
    "        x = F.relu(self.hidden(x))  # ReLU activation in hidden layer\n",
    "        x = self.output(x)  # Linear output for regression\n",
    "        return x\n",
    "\n",
    "# Example input\n",
    "input_size = 2\n",
    "hidden_size = 4\n",
    "model = ANNRegression(input_size, hidden_size)\n",
    "\n",
    "# Example input vector\n",
    "x = torch.tensor([0.5, -0.3])\n",
    "output = model(x)\n",
    "\n",
    "print(f\"Predicted output (regression): {output.item()}\")\n"
   ]
  }
 ],
 "metadata": {
  "kernelspec": {
   "display_name": "Python 3 (ipykernel)",
   "language": "python",
   "name": "python3"
  },
  "language_info": {
   "codemirror_mode": {
    "name": "ipython",
    "version": 3
   },
   "file_extension": ".py",
   "mimetype": "text/x-python",
   "name": "python",
   "nbconvert_exporter": "python",
   "pygments_lexer": "ipython3",
   "version": "3.11.4"
  }
 },
 "nbformat": 4,
 "nbformat_minor": 5
}
