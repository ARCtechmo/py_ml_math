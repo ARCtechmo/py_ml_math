{
 "cells": [
  {
   "cell_type": "code",
   "execution_count": null,
   "id": "66e8722e",
   "metadata": {},
   "outputs": [],
   "source": [
    "## simple Artificial Neural Network using Pytorch ##"
   ]
  },
  {
   "cell_type": "code",
   "execution_count": 18,
   "id": "6a1badb2",
   "metadata": {},
   "outputs": [],
   "source": [
    "# torch.nn module contains classes and functions to build neural networks, including layers and activation functions\n",
    "# torch.optim module contains optimization algorithms like SGD\n",
    "import torch\n",
    "import torch.nn as nn\n",
    "import torch.optim as optim"
   ]
  },
  {
   "cell_type": "code",
   "execution_count": 21,
   "id": "4c30c294",
   "metadata": {},
   "outputs": [],
   "source": [
    "## simple Artificial Neural Network using Pytorch ##\n",
    "\n",
    "# define a new class called SimplePerceptron \n",
    "# nn.Module the base class for all neural network modules in PyTorch\n",
    "class SimplePerceptron(nn.Module):\n",
    "    def __init__(self,input_size):\n",
    "        super(SimplePerceptron,self).__init__()\n",
    "        \n",
    "        # define layers\n",
    "        # create a linear layer (a fully connected layer) that takes input_size\n",
    "        # nn.linear automatically initializes the weights and bias\n",
    "        self.linear = nn.Linear(input_size,1) # single output neuron\n",
    "        \n",
    "    # forward pass with the Sigmoid activation function\n",
    "    # after applying the linear transformation the result is passed through a sigmoid activation function\n",
    "    # the Sigmoid function maps the output to a range between 0 and 1\n",
    "    def forward(self,x):\n",
    "        return torch.sigmoid(self.linear(x))"
   ]
  },
  {
   "cell_type": "code",
   "execution_count": 22,
   "id": "79b609ee",
   "metadata": {},
   "outputs": [
    {
     "name": "stdout",
     "output_type": "stream",
     "text": [
      "Predicted output: 0.26974302530288696\n"
     ]
    }
   ],
   "source": [
    "## simple Artificial Neural Network using Pytorch ##\n",
    "\n",
    "# initiate the model\n",
    "input_size = 2\n",
    "model = SimplePerceptron(input_size)\n",
    "\n",
    "# execute the model by running the input through the model\n",
    "x = torch.tensor([0.5,-0.3])\n",
    "output = model(x)\n",
    "print(f'Predicted output: {output.item()}')"
   ]
  },
  {
   "cell_type": "code",
   "execution_count": 23,
   "id": "bd49c29b",
   "metadata": {},
   "outputs": [
    {
     "name": "stdout",
     "output_type": "stream",
     "text": [
      "Predicted output: 0.4102490246295929\n"
     ]
    }
   ],
   "source": [
    "## simple Artificial Neural Network using Pytorch (all code in a single block) ##\n",
    "\n",
    "import torch\n",
    "import torch.nn as nn\n",
    "import torch.optim as optim\n",
    "\n",
    "# Define a simple single-layer perceptron\n",
    "class SimplePerceptron(nn.Module):\n",
    "    def __init__(self, input_size):\n",
    "        super(SimplePerceptron, self).__init__()\n",
    "        self.linear = nn.Linear(input_size, 1)  # Single output neuron\n",
    "        \n",
    "    def forward(self, x):\n",
    "        return torch.sigmoid(self.linear(x))  # Sigmoid activation function\n",
    "\n",
    "# Example input\n",
    "input_size = 2  # Example with 2 input features\n",
    "model = SimplePerceptron(input_size)\n",
    "\n",
    "# Example input vector\n",
    "x = torch.tensor([0.5, -0.3])\n",
    "output = model(x)\n",
    "\n",
    "print(f\"Predicted output: {output.item()}\")\n"
   ]
  },
  {
   "cell_type": "code",
   "execution_count": null,
   "id": "768d47fa",
   "metadata": {},
   "outputs": [],
   "source": []
  }
 ],
 "metadata": {
  "kernelspec": {
   "display_name": "Python 3 (ipykernel)",
   "language": "python",
   "name": "python3"
  },
  "language_info": {
   "codemirror_mode": {
    "name": "ipython",
    "version": 3
   },
   "file_extension": ".py",
   "mimetype": "text/x-python",
   "name": "python",
   "nbconvert_exporter": "python",
   "pygments_lexer": "ipython3",
   "version": "3.11.4"
  }
 },
 "nbformat": 4,
 "nbformat_minor": 5
}
