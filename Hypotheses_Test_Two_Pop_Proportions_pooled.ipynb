{
 "cells": [
  {
   "cell_type": "code",
   "execution_count": 3,
   "id": "e1b6497d",
   "metadata": {},
   "outputs": [],
   "source": [
    "import numpy as np\n",
    "import matplotlib.pyplot as plt\n",
    "from scipy.stats import norm\n",
    "import scipy.stats as stats\n",
    "from scipy.stats import t\n",
    "import math"
   ]
  },
  {
   "cell_type": "code",
   "execution_count": null,
   "id": "9d834b72",
   "metadata": {},
   "outputs": [],
   "source": []
  },
  {
   "cell_type": "code",
   "execution_count": 40,
   "id": "f56e67ee",
   "metadata": {},
   "outputs": [
    {
     "name": "stdout",
     "output_type": "stream",
     "text": [
      "Example 1: Vasectomy Study\n",
      "Proportion difference (p2_hat - p1_hat): 0.0019\n",
      "Standard error: 0.0006\n",
      "Test statistic (z): 3.0502\n",
      "Critical Value: 2.33\n",
      "Confidence Interval: (0.0004, 0.0033)\n",
      "Decision: Reject H0: There is sufficient evidence to suggest that men with a vasectomy are at greater risk of prostate cancer.\n",
      "\n"
     ]
    }
   ],
   "source": [
    "# Hypotheses test for two populations\n",
    "# pooled z-test for two populations\n",
    "# right-tailed test\n",
    "\n",
    "import math\n",
    "from scipy.stats import norm\n",
    "\n",
    "# Data\n",
    "n1, x1 = 21300, 69  # No vasectomy\n",
    "n2, x2 = 22000, 113  # Vasectomy\n",
    "\n",
    "# Sample proportions\n",
    "p1_hat = x1 / n1\n",
    "p2_hat = x2 / n2\n",
    "\n",
    "# Difference in proportions\n",
    "diff = p2_hat - p1_hat\n",
    "\n",
    "# Pooled proportion for standard error\n",
    "p_hat = (x1 + x2) / (n1 + n2)\n",
    "\n",
    "# Standard error for the difference in proportions\n",
    "se = math.sqrt(p_hat * (1 - p_hat) * (1/n1 + 1/n2))\n",
    "\n",
    "# Critical value\n",
    "alpha = 0.01\n",
    "z_critical = norm.ppf(1 - alpha) # right-tailed test\n",
    "z_critical = round(z_critical,2)\n",
    "\n",
    "# Confidence interval\n",
    "left = diff - z_critical * se\n",
    "right = diff + z_critical * se\n",
    "confidence_interval = (round(left, 4), round(right, 4))\n",
    "\n",
    "# Hypothesis test\n",
    "z = diff / se\n",
    "if z > z_critical:\n",
    "    conclusion = \"Reject H0: There is sufficient evidence to suggest that men with a vasectomy are at greater risk of prostate cancer.\"\n",
    "else:\n",
    "    conclusion = \"Fail to reject H0: There is insufficient evidence to suggest that men with a vasectomy are at greater risk of prostate cancer.\"\n",
    "\n",
    "# Output\n",
    "print(\"Example 1: Vasectomy Study\")\n",
    "print(f\"Proportion difference (p2_hat - p1_hat): {round(diff, 4)}\")\n",
    "print(f\"Standard error: {round(se, 4)}\")\n",
    "print(f\"Test statistic (z): {round(z, 4)}\")\n",
    "print(f'Critical Value: {z_critical}')\n",
    "print(f\"Confidence Interval: {confidence_interval}\")\n",
    "print(f\"Decision: {conclusion}\\n\")"
   ]
  },
  {
   "cell_type": "code",
   "execution_count": null,
   "id": "fd27cc51",
   "metadata": {},
   "outputs": [],
   "source": []
  },
  {
   "cell_type": "code",
   "execution_count": 38,
   "id": "a2f1dc7a",
   "metadata": {},
   "outputs": [
    {
     "name": "stdout",
     "output_type": "stream",
     "text": [
      "Example 2: Folic Acid Study\n",
      "Proportion difference (p1_hat - p2_hat): -0.0099\n",
      "Standard error: 0.0038\n",
      "Confidence Interval: (-0.0021, -0.0178)\n",
      "Test statistic (z): -2.6085\n",
      "Critical Value: -2.05\n",
      "Decision: Reject H0: There is sufficient evidence to suggest that women who take folic acid are at lesser risk of major birth defects.\n"
     ]
    }
   ],
   "source": [
    "# Hypotheses test for two populations\n",
    "# pooled z-test for two populations\n",
    "# left-tailed test\n",
    "\n",
    "# Data\n",
    "n1, x1 = 2701, 35  # Folic acid group\n",
    "n2, x2 = 2052, 47  # Trace elements group\n",
    "\n",
    "# Sample proportions\n",
    "p1_hat = x1 / n1\n",
    "p2_hat = x2 / n2\n",
    "\n",
    "# Difference in proportions\n",
    "diff = p1_hat - p2_hat\n",
    "\n",
    "# Pooled proportion for standard error\n",
    "p_hat = (x1 + x2) / (n1 + n2)\n",
    "\n",
    "# Standard error for the difference in proportions\n",
    "se = math.sqrt(p_hat * (1 - p_hat) * (1/n1 + 1/n2))\n",
    "\n",
    "# Critical value\n",
    "alpha = 0.02\n",
    "z_critical = norm.ppf(alpha) # left-tailed test\n",
    "z_critical = round(z_critical,2)\n",
    "\n",
    "# Confidence interval\n",
    "left = diff - z_critical * se\n",
    "right = diff + z_critical * se\n",
    "confidence_interval = (round(left, 4), round(right, 4))\n",
    "\n",
    "# Hypothesis test\n",
    "z = diff / se\n",
    "if z < -z_critical:\n",
    "    conclusion = \"Reject H0: There is sufficient evidence to suggest that women who take folic acid are at lesser risk of major birth defects.\"\n",
    "else:\n",
    "    conclusion = \"Fail to reject H0: There is insufficient evidence to suggest that women who take folic acid are at lesser risk of major birth defects.\"\n",
    "\n",
    "# Output\n",
    "print(\"Example 2: Folic Acid Study\")\n",
    "print(f\"Proportion difference (p1_hat - p2_hat): {round(diff, 4)}\")\n",
    "print(f\"Standard error: {round(se, 4)}\")\n",
    "print(f\"Confidence Interval: {confidence_interval}\")\n",
    "print(f\"Test statistic (z): {round(z, 4)}\")\n",
    "print(f'Critical Value: {z_critical}')\n",
    "print(f\"Decision: {conclusion}\")\n"
   ]
  },
  {
   "cell_type": "code",
   "execution_count": null,
   "id": "7725bc8b",
   "metadata": {},
   "outputs": [],
   "source": []
  },
  {
   "cell_type": "code",
   "execution_count": null,
   "id": "bcbd16ab",
   "metadata": {},
   "outputs": [],
   "source": []
  }
 ],
 "metadata": {
  "kernelspec": {
   "display_name": "Python 3 (ipykernel)",
   "language": "python",
   "name": "python3"
  },
  "language_info": {
   "codemirror_mode": {
    "name": "ipython",
    "version": 3
   },
   "file_extension": ".py",
   "mimetype": "text/x-python",
   "name": "python",
   "nbconvert_exporter": "python",
   "pygments_lexer": "ipython3",
   "version": "3.11.4"
  }
 },
 "nbformat": 4,
 "nbformat_minor": 5
}
