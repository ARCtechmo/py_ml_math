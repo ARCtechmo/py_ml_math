{
 "cells": [
  {
   "cell_type": "code",
   "execution_count": null,
   "id": "d6424a7b",
   "metadata": {},
   "outputs": [],
   "source": [
    "## A generic example of the PyTorch nn.Module ##\n",
    "\n",
    "# nn.Module is a class that provides the necessary scaffolding for building and managing neural networks in PyTorch. \n",
    "# nn.Module handles the creation, initialization, and management of layers and parameters\n",
    "# nn.Module integrates seamlessly with PyTorch's automatic differentiation and optimization features"
   ]
  },
  {
   "cell_type": "code",
   "execution_count": 4,
   "id": "f0dbb141",
   "metadata": {},
   "outputs": [],
   "source": [
    "## A generic example of the PyTorch nn.Module ##\n",
    "import torch\n",
    "import torch.nn as nn"
   ]
  },
  {
   "cell_type": "code",
   "execution_count": 5,
   "id": "4608e8b9",
   "metadata": {},
   "outputs": [],
   "source": [
    "## A generic example of the PyTorch nn.Module ##\n",
    "# define a class\n",
    "class myModel(nn.Module):\n",
    "    def __init__(self):\n",
    "        super(myModel, self).__init__()\n",
    "        \n",
    "        # define layers\n",
    "        self.fc1 = nn.Linear(10,5) # Fully connected layer with 10 inputs and 5 outputs\n",
    "        self.fc2 = nn.Linear(5,2) # Another fully connected layer\n",
    "        \n",
    "    # override the forward method and define the computation\n",
    "    def forward(self,x):\n",
    "        x = torch.relu(self.fc1(x)) # Apply ReLU activation to the output of fc1\n",
    "        x = self.fc2(x) # Pass through the second layer\n",
    "        return x"
   ]
  },
  {
   "cell_type": "code",
   "execution_count": 7,
   "id": "e578a0c2",
   "metadata": {},
   "outputs": [
    {
     "name": "stdout",
     "output_type": "stream",
     "text": [
      "tensor([[0.3927, 0.1234]], grad_fn=<AddmmBackward0>)\n"
     ]
    }
   ],
   "source": [
    "## A generic example of the PyTorch nn.Module ##\n",
    "\n",
    "# instantiate the model\n",
    "model = myModel()\n",
    "\n",
    "# Example input tensor with 10 features\n",
    "input_data = torch.randn(1,10)\n",
    "\n",
    "# forward pass\n",
    "output = model(input_data)\n",
    "print(output)"
   ]
  },
  {
   "cell_type": "code",
   "execution_count": null,
   "id": "40d6f5eb",
   "metadata": {},
   "outputs": [],
   "source": []
  }
 ],
 "metadata": {
  "kernelspec": {
   "display_name": "Python 3 (ipykernel)",
   "language": "python",
   "name": "python3"
  },
  "language_info": {
   "codemirror_mode": {
    "name": "ipython",
    "version": 3
   },
   "file_extension": ".py",
   "mimetype": "text/x-python",
   "name": "python",
   "nbconvert_exporter": "python",
   "pygments_lexer": "ipython3",
   "version": "3.11.4"
  }
 },
 "nbformat": 4,
 "nbformat_minor": 5
}
