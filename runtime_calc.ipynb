{
 "cells": [
  {
   "cell_type": "code",
   "execution_count": 1,
   "id": "72ef94a9",
   "metadata": {},
   "outputs": [],
   "source": [
    "import numpy as np\n",
    "import matplotlib.pyplot as plt\n",
    "import math\n",
    "import pandas as pd"
   ]
  },
  {
   "cell_type": "code",
   "execution_count": null,
   "id": "6b8a63b7",
   "metadata": {},
   "outputs": [],
   "source": []
  },
  {
   "cell_type": "code",
   "execution_count": 2,
   "id": "01fcbdd9",
   "metadata": {},
   "outputs": [
    {
     "data": {
      "text/plain": [
       "'No target.'"
      ]
     },
     "execution_count": 2,
     "metadata": {},
     "output_type": "execute_result"
    }
   ],
   "source": [
    "def linear_search(arr, target):\n",
    "    for i in range(len(arr)):\n",
    "        if arr[i] == target:\n",
    "            return f'index: {i}; value: {arr[i]}'\n",
    "    return f'No target.'\n",
    "target = 17\n",
    "arr = [5,3,9,1,2]\n",
    "linear_search(arr, target)"
   ]
  },
  {
   "cell_type": "code",
   "execution_count": null,
   "id": "930ce7a2",
   "metadata": {},
   "outputs": [],
   "source": []
  },
  {
   "cell_type": "code",
   "execution_count": 9,
   "id": "842d4877",
   "metadata": {},
   "outputs": [
    {
     "name": "stdout",
     "output_type": "stream",
     "text": [
      "array length: 9\n"
     ]
    },
    {
     "data": {
      "text/plain": [
       "4"
      ]
     },
     "execution_count": 9,
     "metadata": {},
     "output_type": "execute_result"
    }
   ],
   "source": [
    "def binary_search(arr, target):\n",
    "    low = 0\n",
    "    high = len(arr) - 1\n",
    "    while low <= high:\n",
    "        mid = (low + high)//2 \n",
    "        if arr[mid] == target:\n",
    "            return mid\n",
    "        elif arr[mid] < target:\n",
    "            low = mid + 1\n",
    "        else:\n",
    "            high = mid -1\n",
    "    return -1\n",
    "arr = [4, 11, 19, 24, 31, 42, 56, 63, 78]\n",
    "print(f'array length: {len(arr)}')\n",
    "target = 31\n",
    "binary_search(arr, target)"
   ]
  },
  {
   "cell_type": "code",
   "execution_count": 10,
   "id": "61e34539",
   "metadata": {},
   "outputs": [
    {
     "data": {
      "text/plain": [
       "6"
      ]
     },
     "execution_count": 10,
     "metadata": {},
     "output_type": "execute_result"
    }
   ],
   "source": []
  },
  {
   "cell_type": "code",
   "execution_count": null,
   "id": "e16dcc7f",
   "metadata": {},
   "outputs": [],
   "source": [
    "def select_sort(arr):\n",
    "    for i in range(len(arr) - 1):\n",
    "        min_index = i\n",
    "        for j in range(i+1, len(arr)):\n",
    "            if arr[j] < arr[min_index]:\n",
    "                min_index  = j\n",
    "        arr[i], arr[min_index] = arr[min_index], arr[i]\n",
    "    return arr\n",
    "arr = [3,5,1,7,9,2]\n",
    "select_sort(arr)"
   ]
  },
  {
   "cell_type": "code",
   "execution_count": null,
   "id": "1ede6461",
   "metadata": {},
   "outputs": [],
   "source": []
  },
  {
   "cell_type": "code",
   "execution_count": null,
   "id": "866b3091",
   "metadata": {},
   "outputs": [],
   "source": [
    "def insert_sort(arr):\n",
    "    for j in range(1,len(arr)):\n",
    "        key = arr[j]\n",
    "        i = j-1\n",
    "        while i >=0 and arr[i] > key:\n",
    "            arr[i+1] = arr[i]\n",
    "            i-=1\n",
    "        arr[i+1] = key\n",
    "    return arr\n",
    "\n",
    "arr = [7,9,2,5,1]\n",
    "insert_sort(arr)"
   ]
  },
  {
   "cell_type": "code",
   "execution_count": null,
   "id": "f7cdda79",
   "metadata": {},
   "outputs": [],
   "source": []
  },
  {
   "cell_type": "code",
   "execution_count": null,
   "id": "880d9ba5",
   "metadata": {},
   "outputs": [],
   "source": [
    "def merge_sort(arr):\n",
    "    if len(arr)<=1:\n",
    "        return arr\n",
    "    mid = len(arr) // 2\n",
    "    left_half = merge_sort(arr[:mid])\n",
    "    right_half = merge_sort(arr[mid:])\n",
    "    return merge(left_half, right_half)\n",
    "\n",
    "def merge(left, right):\n",
    "    result = []\n",
    "    i = j = 0\n",
    "    while i < len(left) and j < len(right):\n",
    "        if left[i] < right[j]:\n",
    "            result.append(left[i])\n",
    "            i+=1\n",
    "        else:\n",
    "            result.append(right[j])\n",
    "            j+=1\n",
    "            \n",
    "    result.extend(left[i:])\n",
    "    result.extend(right[j:])\n",
    "    return result\n",
    "        \n",
    "arr = [1,9,7,4,8]\n",
    "merge_sort(arr)"
   ]
  },
  {
   "cell_type": "code",
   "execution_count": null,
   "id": "f4b05f08",
   "metadata": {},
   "outputs": [],
   "source": []
  },
  {
   "cell_type": "code",
   "execution_count": null,
   "id": "b979207a",
   "metadata": {},
   "outputs": [],
   "source": [
    "# simple code to compre runtime efficienes given a constant c \n",
    "# find the largest value of some input n where a merge sort is more efficient than insertion sort\n",
    "\n",
    "# define your constants\n",
    "c1 = 10\n",
    "c2 = 30\n",
    "\n",
    "def insertion_sort_runtime(c, n):\n",
    "    return c * n**2\n",
    "\n",
    "def merge_sort_runtime(c, n):\n",
    "    return  c * n * math.log2(n)\n",
    "\n",
    "# Find the largest n where insertion sort is faster\n",
    "results = []\n",
    "\n",
    "# set the range n >1\n",
    "for n in range(2,20):\n",
    "    insertion_time = insertion_sort_runtime(c1, n)\n",
    "    merge_time = merge_sort_runtime(c2, n)\n",
    "    merge_time = round(merge_time, 2)\n",
    "    results.append((n, insertion_time, merge_time, insertion_time < merge_time))\n",
    "\n",
    "# Extract the largest n where insertion sort is faster\n",
    "largest_n = max([n for n, ins, merge, is_faster in results if is_faster])\n",
    "\n",
    "print(f'Insertion sort is faster up to {largest_n} computational inputs.')"
   ]
  },
  {
   "cell_type": "code",
   "execution_count": null,
   "id": "bfbee6c5",
   "metadata": {},
   "outputs": [],
   "source": []
  },
  {
   "cell_type": "code",
   "execution_count": null,
   "id": "d1fb676d",
   "metadata": {},
   "outputs": [],
   "source": [
    "# compute runtimes for insertion sort given the speed of a machine\n",
    "\n",
    "# machine speed\n",
    "speed = 10**6\n",
    "\n",
    "# define your constant\n",
    "c = 5\n",
    "\n",
    "# insertion sort\n",
    "def insertion_sort(c,n):\n",
    "    return c * n**2\n",
    "\n",
    "# define the runtime\n",
    "def runtime(algo, speed):\n",
    "    return algo / speed\n",
    "\n",
    "lst = []\n",
    "\n",
    "# modify the range as necessary\n",
    "for n in range(10, 500, 50):\n",
    "    insertion_time = insertion_sort(c, n)\n",
    "    runtime_seconds = runtime(insertion_time, speed)\n",
    "    lst.append((n, insertion_time, runtime_seconds))\n",
    "\n",
    "print(f'inputs (n), steps, runtime')\n",
    "for l in lst:\n",
    "    print(l)"
   ]
  },
  {
   "cell_type": "code",
   "execution_count": null,
   "id": "1789e155",
   "metadata": {},
   "outputs": [],
   "source": []
  },
  {
   "cell_type": "code",
   "execution_count": null,
   "id": "26d3f307",
   "metadata": {},
   "outputs": [],
   "source": [
    "# compare insertions and merge sort for a given input of n\n",
    "# determine the crossover point where merge sort becomes more efficient\n",
    "\n",
    "# define the parameters of thep problem\n",
    "constant_one = 2\n",
    "constant_two = 50\n",
    "computation_input_size = 10**7\n",
    "compute_instructions_per_second_A = 10**10\n",
    "compute_instructions_per_second_B = 10**7\n",
    "\n",
    "# Define the runtime for insertion sort\n",
    "def runtime_insertion_sort(c, n, inst):\n",
    "    if c > 0 and n > 0 and inst > 0:\n",
    "        return c * n**2 / inst\n",
    "\n",
    "# Define the runtimes for merge sort\n",
    "def runtime_merge_sort(c,n,inst):\n",
    "    if c > 0 and n > 0 and inst > 0:\n",
    "        return c * n * np.log2(n) / inst\n",
    "\n",
    "# compare runtimes\n",
    "runtime_insertion = runtime_insertion_sort(constant_one, computation_input_size, compute_instructions_per_second_A)\n",
    "runtime_insertion = round(runtime_insertion,0)\n",
    "\n",
    "runtime_merge = runtime_merge_sort(constant_two, computation_input_size, compute_instructions_per_second_B)\n",
    "runtime_merge = round(runtime_merge, 0)\n",
    "\n",
    "# print the results\n",
    "print(f\"Insertion Sort Runtime: {runtime_insertion} seconds\")\n",
    "print(f\"Merge Sort Runtime: {runtime_merge} seconds\\n\")\n",
    "\n",
    "\n",
    "# Determine the crossoverpoint (buy guessing)\n",
    "# expand the size of the range as needed\n",
    "def find_crossover_point():\n",
    "    for n in range(2, 1000000):\n",
    "        insertion_sort_time = runtime_insertion_sort(constant_one, n, compute_instructions_per_second_A)\n",
    "        merge_sort_time = runtime_merge = runtime_merge_sort(constant_two, n, compute_instructions_per_second_B)\n",
    "        if merge_sort_time < insertion_sort_time:\n",
    "            return n\n",
    "    return None\n",
    "\n",
    "# Crossover Point\n",
    "crossover_point = find_crossover_point()\n",
    "if crossover_point:\n",
    "    print(f'Merge sort becomes more efficient after {crossover_point} inputs.')\n",
    "\n",
    "    # Compute runtimes at the crossover point\n",
    "    crossover_insertion_sort = runtime_insertion_sort(constant_one, crossover_point, compute_instructions_per_second_A)\n",
    "    crossover_merge_sort = runtime_merge_sort(constant_two, crossover_point, compute_instructions_per_second_B)\n",
    "\n",
    "    # Generate values of n for the graph\n",
    "    n_values = np.linspace(1, 600000, 1000)  # From 1 to x with 1000 points for smoother graph\n",
    "    \n",
    "    # Compute runtimes for both algorithms\n",
    "    insertion_sort_runtimes = [runtime_insertion_sort(constant_one, n, compute_instructions_per_second_A) for n in n_values]\n",
    "    merge_sort_runtimes = [runtime_merge_sort(constant_two, n, compute_instructions_per_second_B) for n in n_values]\n",
    "    \n",
    "    # Plot the graph\n",
    "    plt.figure(figsize=(14, 8))\n",
    "    plt.plot(n_values, insertion_sort_runtimes, label=\"Insertion Sort (Computer A)\", linewidth=2)\n",
    "    plt.plot(n_values, merge_sort_runtimes, label=\"Merge Sort (Computer B)\", linewidth=2)\n",
    "\n",
    "    # Highlight the crossover point\n",
    "    plt.scatter([crossover_point], [crossover_insertion_sort], color=\"red\", label=\"Crossover Point\", zorder=5)\n",
    "\n",
    "    # Annotate the crossover point\n",
    "    plt.text(crossover_point, crossover_insertion_sort * 1.1, f\"n = {crossover_point}\", fontsize=10, ha=\"center\")\n",
    "\n",
    "    # Add labels, title, and legend\n",
    "    plt.title(\"Comparison of Insertion Sort and Merge Sort Runtimes\", fontsize=16)\n",
    "    plt.xlabel(\"Input Size (n)\", fontsize=14)\n",
    "    plt.ylabel(\"Runtime (seconds)\", fontsize=14)\n",
    "    plt.legend(fontsize=12)\n",
    "    plt.grid(True)\n",
    "\n",
    "    # Scale appropriately to highlight the crossover\n",
    "    plt.xlim(1, 600000) # increase to extend the x-axis\n",
    "    plt.ylim(0, max(max(insertion_sort_runtimes), max(merge_sort_runtimes)) * 1.5) # extend y-axis scaling\n",
    "\n",
    "    # Show the plot\n",
    "    plt.show()\n",
    "else:\n",
    "    print(\"Merge sort does not become more efficient within the tested range.\")\n"
   ]
  },
  {
   "cell_type": "code",
   "execution_count": null,
   "id": "4e0f5060",
   "metadata": {},
   "outputs": [],
   "source": []
  },
  {
   "cell_type": "code",
   "execution_count": null,
   "id": "9cbbb51a",
   "metadata": {},
   "outputs": [],
   "source": []
  }
 ],
 "metadata": {
  "kernelspec": {
   "display_name": "Python 3 (ipykernel)",
   "language": "python",
   "name": "python3"
  },
  "language_info": {
   "codemirror_mode": {
    "name": "ipython",
    "version": 3
   },
   "file_extension": ".py",
   "mimetype": "text/x-python",
   "name": "python",
   "nbconvert_exporter": "python",
   "pygments_lexer": "ipython3",
   "version": "3.11.4"
  }
 },
 "nbformat": 4,
 "nbformat_minor": 5
}
