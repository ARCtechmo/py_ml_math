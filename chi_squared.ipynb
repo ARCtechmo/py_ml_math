{
 "cells": [
  {
   "cell_type": "code",
   "execution_count": 3,
   "id": "e1b6497d",
   "metadata": {},
   "outputs": [],
   "source": [
    "import numpy as np\n",
    "import matplotlib.pyplot as plt\n",
    "import math\n",
    "import scipy.stats as stats\n",
    "from scipy.stats import chi2"
   ]
  },
  {
   "cell_type": "code",
   "execution_count": null,
   "id": "9d834b72",
   "metadata": {},
   "outputs": [],
   "source": []
  },
  {
   "cell_type": "code",
   "execution_count": 2,
   "id": "d380f179",
   "metadata": {},
   "outputs": [
    {
     "name": "stdout",
     "output_type": "stream",
     "text": [
      "degrees of freedom: 12\n",
      "X^2(area0.025) for 12 degrees of freedom is: 23.3367\n"
     ]
    }
   ],
   "source": [
    "# For a chi-squared-curve with 12 degrees of freedom, find the chi-square value with area (alpha) 0.025 to its right\n",
    "\n",
    "# Degrees of freedom\n",
    "df = 12\n",
    "\n",
    "# alpha (area to the right)\n",
    "alpha = 0.025\n",
    "\n",
    "# Cumulative probability (1 - 0.025 = 0.975)\n",
    "p = 1 - alpha\n",
    "\n",
    "# Find the critical value\n",
    "chi_squared_value = chi2.ppf(p, df)\n",
    "print(f'degrees of freedom: {df}')\n",
    "print(f\"X^2(area{alpha}) for {df} degrees of freedom is: {chi_squared_value:.4f}\")\n"
   ]
  },
  {
   "cell_type": "code",
   "execution_count": null,
   "id": "ac02945b",
   "metadata": {},
   "outputs": [],
   "source": []
  },
  {
   "cell_type": "code",
   "execution_count": 17,
   "id": "72b9691a",
   "metadata": {},
   "outputs": [
    {
     "name": "stdout",
     "output_type": "stream",
     "text": [
      "degrees of freedom: 10\n",
      "X^2(area0.05) for 10 degrees of freedom is: 18.3070\n"
     ]
    }
   ],
   "source": [
    "# For a chi-squared-curve with 10 degrees of freedom, determine the chi-square value with area (alpha)0.05\n",
    "\n",
    "# Degrees of freedom\n",
    "df = 10\n",
    "\n",
    "# alpha (area to the right)\n",
    "alpha = 0.05\n",
    "\n",
    "# Cumulative probability (1 - 0.05 = 0.95)\n",
    "p = 1 - alpha\n",
    "\n",
    "# Find the critical value\n",
    "chi_squared_value = chi2.ppf(p, df)\n",
    "print(f'degrees of freedom: {df}')\n",
    "print(f\"X^2(area{alpha}) for {df} degrees of freedom is: {chi_squared_value:.4f}\")"
   ]
  },
  {
   "cell_type": "code",
   "execution_count": null,
   "id": "49cf5364",
   "metadata": {},
   "outputs": [],
   "source": []
  },
  {
   "cell_type": "code",
   "execution_count": 4,
   "id": "d808134a",
   "metadata": {},
   "outputs": [
    {
     "name": "stdout",
     "output_type": "stream",
     "text": [
      "Chi-squared Statistic: 6.529\n",
      "Critical Value (95% confidence): 7.815\n",
      "P-value: 0.089\n"
     ]
    }
   ],
   "source": [
    "# calculate a goodness of fit test\n",
    "# compare observed vs expected values\n",
    "\n",
    "# Observed data\n",
    "observed = [3, 36, 170, 291]\n",
    "\n",
    "# Expected data\n",
    "expected = [6.0, 34.0, 147.5, 312.5]\n",
    "\n",
    "# Compute the chi-squared statistic manually\n",
    "chi_squared_stat = sum([(o - e) ** 2 / e for o, e in zip(observed, expected)])\n",
    "\n",
    "# Degrees of freedom\n",
    "degrees_of_freedom = len(observed) - 1\n",
    "\n",
    "# Compute the critical value for a 95% confidence level\n",
    "critical_value = stats.chi2.ppf(0.95, df=degrees_of_freedom)\n",
    "\n",
    "# Compute the p-value\n",
    "p_value = 1 - stats.chi2.cdf(chi_squared_stat, df=degrees_of_freedom)\n",
    "\n",
    "# Output results\n",
    "print(f\"Chi-squared Statistic: {chi_squared_stat:.3f}\")\n",
    "print(f\"Critical Value (95% confidence): {critical_value:.3f}\")\n",
    "print(f\"P-value: {p_value:.3f}\")\n"
   ]
  },
  {
   "cell_type": "code",
   "execution_count": null,
   "id": "5e288ed7",
   "metadata": {},
   "outputs": [],
   "source": []
  }
 ],
 "metadata": {
  "kernelspec": {
   "display_name": "Python 3 (ipykernel)",
   "language": "python",
   "name": "python3"
  },
  "language_info": {
   "codemirror_mode": {
    "name": "ipython",
    "version": 3
   },
   "file_extension": ".py",
   "mimetype": "text/x-python",
   "name": "python",
   "nbconvert_exporter": "python",
   "pygments_lexer": "ipython3",
   "version": "3.11.4"
  }
 },
 "nbformat": 4,
 "nbformat_minor": 5
}
