{
 "cells": [
  {
   "cell_type": "code",
   "execution_count": 1,
   "id": "e1b6497d",
   "metadata": {},
   "outputs": [],
   "source": [
    "import numpy as np\n",
    "import matplotlib.pyplot as plt\n",
    "import math\n",
    "import scipy.stats as stats\n",
    "from scipy.stats import chi2"
   ]
  },
  {
   "cell_type": "code",
   "execution_count": null,
   "id": "9d834b72",
   "metadata": {},
   "outputs": [],
   "source": []
  },
  {
   "cell_type": "code",
   "execution_count": 2,
   "id": "d380f179",
   "metadata": {},
   "outputs": [
    {
     "name": "stdout",
     "output_type": "stream",
     "text": [
      "degrees of freedom: 12\n",
      "X^2(area0.025) for 12 degrees of freedom is: 23.3367\n"
     ]
    }
   ],
   "source": [
    "# For a chi-squared-curve with 12 degrees of freedom, find the chi-square value with area (alpha) 0.025 to its right\n",
    "\n",
    "# Degrees of freedom\n",
    "df = 12\n",
    "\n",
    "# alpha (area to the right)\n",
    "alpha = 0.025\n",
    "\n",
    "# Cumulative probability (1 - 0.025 = 0.975)\n",
    "p = 1 - alpha\n",
    "\n",
    "# Find the critical value\n",
    "chi_squared_value = chi2.ppf(p, df)\n",
    "print(f'degrees of freedom: {df}')\n",
    "print(f\"X^2(area{alpha}) for {df} degrees of freedom is: {chi_squared_value:.4f}\")\n"
   ]
  },
  {
   "cell_type": "code",
   "execution_count": null,
   "id": "ac02945b",
   "metadata": {},
   "outputs": [],
   "source": []
  },
  {
   "cell_type": "code",
   "execution_count": 17,
   "id": "72b9691a",
   "metadata": {},
   "outputs": [
    {
     "name": "stdout",
     "output_type": "stream",
     "text": [
      "degrees of freedom: 10\n",
      "X^2(area0.05) for 10 degrees of freedom is: 18.3070\n"
     ]
    }
   ],
   "source": [
    "# For a chi-squared-curve with 10 degrees of freedom, determine the chi-square value with area (alpha)0.05\n",
    "\n",
    "# Degrees of freedom\n",
    "df = 10\n",
    "\n",
    "# alpha (area to the right)\n",
    "alpha = 0.05\n",
    "\n",
    "# Cumulative probability (1 - 0.05 = 0.95)\n",
    "p = 1 - alpha\n",
    "\n",
    "# Find the critical value\n",
    "chi_squared_value = chi2.ppf(p, df)\n",
    "print(f'degrees of freedom: {df}')\n",
    "print(f\"X^2(area{alpha}) for {df} degrees of freedom is: {chi_squared_value:.4f}\")"
   ]
  },
  {
   "cell_type": "code",
   "execution_count": null,
   "id": "49cf5364",
   "metadata": {},
   "outputs": [],
   "source": []
  },
  {
   "cell_type": "code",
   "execution_count": 10,
   "id": "d808134a",
   "metadata": {},
   "outputs": [
    {
     "name": "stdout",
     "output_type": "stream",
     "text": [
      "Assumption 1 passed: All expected frequencies are 1 or greater.\n",
      "Assumption 2 passed: At most 20% of expected frequencies are less than 5.\n",
      "\n",
      "Chi-squared Statistic: 6.529\n",
      "Critical Value (95% confidence): 7.815\n",
      "P-value: 0.089\n"
     ]
    }
   ],
   "source": [
    "# calculate a goodness of fit test\n",
    "# compare observed vs expected values\n",
    "\n",
    "# Observed data\n",
    "observed = [3, 36, 170, 291]\n",
    "\n",
    "# Expected data\n",
    "expected = [6.0, 34.0, 147.5, 312.5]\n",
    "\n",
    "# Check assumptions\n",
    "# Assumption 1: All expected frequencies are 1 or greater\n",
    "if all(e >=1 for e in expected):\n",
    "        print(\"Assumption 1 passed: All expected frequencies are 1 or greater.\")\n",
    "else:\n",
    "    print(\"Assumption 1 failed: Not all expected frequencies are 1 or greater.\")\n",
    "    \n",
    "\n",
    "# Assumption 2: At most, 20% of expected frequencies are less than 5\n",
    "less_than_five = sum(1 for e in expected if e < 5)\n",
    "if less_than_five / len(expected) <= 0.2:\n",
    "    print(\"Assumption 2 passed: At most 20% of expected frequencies are less than 5.\\n\")\n",
    "else:\n",
    "    print(\"Assumption 2 failed: More than 20% of expected frequencies are less than 5.\\n\")\n",
    "    \n",
    "# Compute the chi-squared statistic manually\n",
    "chi_squared_stat = sum([(o - e) ** 2 / e for o, e in zip(observed, expected)])\n",
    "\n",
    "# Degrees of freedom\n",
    "degrees_of_freedom = len(observed) - 1\n",
    "\n",
    "# Compute the critical value for a 95% confidence level\n",
    "critical_value = stats.chi2.ppf(0.95, df=degrees_of_freedom)\n",
    "\n",
    "# Compute the p-value\n",
    "p_value = 1 - stats.chi2.cdf(chi_squared_stat, df=degrees_of_freedom)\n",
    "\n",
    "# Output results\n",
    "print(f\"Chi-squared Statistic: {chi_squared_stat:.3f}\")\n",
    "print(f\"Critical Value: {critical_value:.3f}\")\n",
    "print(f\"P-value: {p_value:.3f}\")"
   ]
  },
  {
   "cell_type": "code",
   "execution_count": null,
   "id": "5e288ed7",
   "metadata": {},
   "outputs": [],
   "source": []
  },
  {
   "cell_type": "code",
   "execution_count": 12,
   "id": "b60cc930",
   "metadata": {},
   "outputs": [
    {
     "name": "stdout",
     "output_type": "stream",
     "text": [
      "Assumption 1 passed: All expected frequencies are 1 or greater.\n",
      "Assumption 2 passed: At most 20% of expected frequencies are less than 5.\n",
      "\n",
      "degrees of freedom: 3\n",
      "Chi-squared Statistic: 14.042\n",
      "Critical Value (95% confidence): 7.815\n",
      "P-value: 0.003\n"
     ]
    }
   ],
   "source": [
    "# calculate a goodness of fit test\n",
    "# compare observed vs expected values\n",
    "# You are given observed frequencies and distributions \n",
    "\n",
    "# Observed data\n",
    "observed = [85,215,130,70]\n",
    "\n",
    "# distribution\n",
    "distribution = [0.2, 0.4, 0.3, 0.1]\n",
    "\n",
    "# Total number of observations\n",
    "total_observed = sum(observed)\n",
    "\n",
    "# degrees of freedom\n",
    "df = len(observed) -1\n",
    "\n",
    "# Expected data\n",
    "expected = [total_observed * p for p in distribution]\n",
    "\n",
    "# Check assumptions\n",
    "# Assumption 1: All expected frequencies are 1 or greater\n",
    "if all(e >=1 for e in expected):\n",
    "        print(\"Assumption 1 passed: All expected frequencies are 1 or greater.\")\n",
    "else:\n",
    "    print(\"Assumption 1 failed: Not all expected frequencies are 1 or greater.\")\n",
    "    \n",
    "\n",
    "# Assumption 2: At most, 20% of expected frequencies are less than 5\n",
    "less_than_five = sum(1 for e in expected if e < 5)\n",
    "if less_than_five / len(expected) <= 0.2:\n",
    "    print(\"Assumption 2 passed: At most 20% of expected frequencies are less than 5.\\n\")\n",
    "else:\n",
    "    print(\"Assumption 2 failed: More than 20% of expected frequencies are less than 5.\\n\")\n",
    "\n",
    "\n",
    "# Compute the chi-squared statistic manually\n",
    "chi_squared_stat = sum([(o - e) ** 2 / e for o, e in zip(observed, expected)])\n",
    "\n",
    "# Degrees of freedom\n",
    "degrees_of_freedom = len(observed) - 1\n",
    "\n",
    "# Compute the critical value for a 95% confidence level\n",
    "critical_value = stats.chi2.ppf(0.95, df=degrees_of_freedom)\n",
    "\n",
    "# Compute the p-value\n",
    "p_value = 1 - stats.chi2.cdf(chi_squared_stat, df=degrees_of_freedom)\n",
    "\n",
    "# Output results\n",
    "print(f\"degrees of freedom: {df}\")\n",
    "print(f\"Chi-squared Statistic: {chi_squared_stat:.3f}\")\n",
    "print(f\"Critical Value: {critical_value:.3f}\")\n",
    "print(f\"P-value: {p_value:.3f}\")"
   ]
  },
  {
   "cell_type": "code",
   "execution_count": null,
   "id": "5851ce81",
   "metadata": {},
   "outputs": [],
   "source": []
  },
  {
   "cell_type": "code",
   "execution_count": 11,
   "id": "23848bb4",
   "metadata": {},
   "outputs": [
    {
     "name": "stdout",
     "output_type": "stream",
     "text": [
      "Assumption 1 passed: All expected frequencies are 1 or greater.\n",
      "Assumption 2 passed: At most 20% of expected frequencies are less than 5.\n",
      "\n",
      "Contingency Table with Expected Frequencies:\n",
      "          Abstain from drinking  1-60 drinks per month  \\\n",
      "Single                       67                    213   \n",
      "Married                     411                    633   \n",
      "Widowed                      85                     51   \n",
      "Divorced                     27                     60   \n",
      "\n",
      "          Over 60 drinks per month  Abstain from drinking (Expected)  \\\n",
      "Single                          74                            117.87   \n",
      "Married                        129                            390.56   \n",
      "Widowed                          7                             47.61   \n",
      "Divorced                        15                             33.96   \n",
      "\n",
      "          1-60 drinks per month (Expected)  \\\n",
      "Single                              191.18   \n",
      "Married                             633.50   \n",
      "Widowed                              77.23   \n",
      "Divorced                             55.09   \n",
      "\n",
      "          Over 60 drinks per month (Expected)  \n",
      "Single                                  44.95  \n",
      "Married                                148.94  \n",
      "Widowed                                 18.16  \n",
      "Divorced                                12.95  \n",
      "\n",
      "Chi-squared Test Statistic: 94.27\n",
      "Critical Value at alpha = 0.05 : 12.59\n",
      "P-value: 0.0\n",
      "Degrees of Freedom: 6\n",
      "\n",
      "Conclusion: Reject the null hypothesis (H0).\n"
     ]
    }
   ],
   "source": [
    "import pandas as pd\n",
    "from scipy.stats import chi2_contingency, chi2\n",
    "\n",
    "# Input your contingency table\n",
    "data = {\n",
    "    \"Abstain from drinking\": [67, 411, 85, 27],  \n",
    "    \"1-60 drinks per month\": [213, 633, 51, 60],  \n",
    "    \"Over 60 drinks per month\": [74, 129, 7, 15]\n",
    "}\n",
    "\n",
    "# Convert to a pandas DataFrame\n",
    "contingency_table = pd.DataFrame(data, index=[\"Single\", \"Married\", \"Widowed\", \"Divorced\"])\n",
    "\n",
    "# Conduct the chi-squared test\n",
    "chi2_stat, p, dof, expected = chi2_contingency(contingency_table)\n",
    "\n",
    "# Add the expected frequencies to the DataFrame and round\n",
    "expected_df = pd.DataFrame(expected, index=contingency_table.index, columns=contingency_table.columns)\n",
    "expected_df = expected_df.round(2)\n",
    "contingency_with_expected = pd.concat([contingency_table, expected_df.add_suffix(' (Expected)')], axis=1)\n",
    "\n",
    "# Set the significance level (alpha)\n",
    "alpha = 0.05\n",
    "\n",
    "# Compute the critical value\n",
    "critical_value = chi2.ppf(1 - alpha, dof)\n",
    "\n",
    "# Check assumptions\n",
    "# Assumption 1: All expected frequencies are 1 or greater\n",
    "if (expected >= 1).all():\n",
    "    print(\"Assumption 1 passed: All expected frequencies are 1 or greater.\")\n",
    "else:\n",
    "    print(\"Assumption 1 failed: Not all expected frequencies are 1 or greater.\")\n",
    "\n",
    "# Assumption 2: At most, 20% of expected frequencies are less than 5\n",
    "less_than_five = (expected < 5).sum()\n",
    "total_frequencies = expected.size  # Total number of expected frequencies\n",
    "if less_than_five / total_frequencies <= 0.2:\n",
    "    print(\"Assumption 2 passed: At most 20% of expected frequencies are less than 5.\")\n",
    "else:\n",
    "    print(\"Assumption 2 failed: More than 20% of expected frequencies are less than 5.\")\n",
    "\n",
    "# Display the updated DataFrame\n",
    "print(\"\\nContingency Table with Expected Frequencies:\")\n",
    "print(contingency_with_expected)\n",
    "\n",
    "# Print results\n",
    "print(\"\\nChi-squared Test Statistic:\", round(chi2_stat, 2))\n",
    "print(\"Critical Value at alpha =\", alpha, \":\", round(critical_value, 2))\n",
    "print(\"P-value:\", round(p, 4))\n",
    "print(\"Degrees of Freedom:\", dof)\n",
    "\n",
    "# Decision\n",
    "if chi2_stat > critical_value:\n",
    "    print(\"\\nConclusion: Reject the null hypothesis (H0).\")\n",
    "else:\n",
    "    print(\"\\nConclusion: Fail to reject the null hypothesis (H0).\")\n"
   ]
  },
  {
   "cell_type": "code",
   "execution_count": null,
   "id": "3020a08d",
   "metadata": {},
   "outputs": [],
   "source": []
  }
 ],
 "metadata": {
  "kernelspec": {
   "display_name": "Python 3 (ipykernel)",
   "language": "python",
   "name": "python3"
  },
  "language_info": {
   "codemirror_mode": {
    "name": "ipython",
    "version": 3
   },
   "file_extension": ".py",
   "mimetype": "text/x-python",
   "name": "python",
   "nbconvert_exporter": "python",
   "pygments_lexer": "ipython3",
   "version": "3.11.4"
  }
 },
 "nbformat": 4,
 "nbformat_minor": 5
}
