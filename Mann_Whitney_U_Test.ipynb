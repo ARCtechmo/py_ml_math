{
 "cells": [
  {
   "cell_type": "code",
   "execution_count": null,
   "id": "e9d18990",
   "metadata": {},
   "outputs": [],
   "source": [
    "# Mann-Whitney U Test (nonparametric)\n",
    "# aka Wilcoxon rank-sum test"
   ]
  },
  {
   "cell_type": "code",
   "execution_count": 5,
   "id": "01249ac8",
   "metadata": {},
   "outputs": [
    {
     "name": "stdout",
     "output_type": "stream",
     "text": [
      "U Statistic: 198.0\n",
      "p-value: 0.9676346083712113\n"
     ]
    }
   ],
   "source": [
    "import numpy as np\n",
    "from scipy.stats import mannwhitneyu\n",
    "\n",
    "# Generate two independent samples\n",
    "np.random.seed(0) # For reproducibility\n",
    "sample1 = np.random.normal(loc=50,scale=10,size=20)\n",
    "sample2 = np.random.normal(loc=55, scale=10, size=20)\n",
    "# print(sample1)\n",
    "# print(sample2)\n",
    "\n",
    "# Perform the Mann-Whitney U test\n",
    "# U Statistic: A measure of the difference between the two samples.\n",
    "u_statistic, p_value = mannwhitneyu(sample1, sample2)\n",
    "print(f\"U Statistic: {u_statistic}\")\n",
    "print(f\"p-value: {p_value}\")"
   ]
  },
  {
   "cell_type": "code",
   "execution_count": null,
   "id": "17fad6e8",
   "metadata": {},
   "outputs": [],
   "source": []
  }
 ],
 "metadata": {
  "kernelspec": {
   "display_name": "Python 3 (ipykernel)",
   "language": "python",
   "name": "python3"
  },
  "language_info": {
   "codemirror_mode": {
    "name": "ipython",
    "version": 3
   },
   "file_extension": ".py",
   "mimetype": "text/x-python",
   "name": "python",
   "nbconvert_exporter": "python",
   "pygments_lexer": "ipython3",
   "version": "3.11.4"
  }
 },
 "nbformat": 4,
 "nbformat_minor": 5
}
