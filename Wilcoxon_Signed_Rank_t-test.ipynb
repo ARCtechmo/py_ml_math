{
 "cells": [
  {
   "cell_type": "code",
   "execution_count": null,
   "id": "9f440a87",
   "metadata": {},
   "outputs": [],
   "source": [
    "# Wilcoxon Signed-rank test (nonparametric t-test)"
   ]
  },
  {
   "cell_type": "code",
   "execution_count": 14,
   "id": "a165a0c1",
   "metadata": {},
   "outputs": [
    {
     "name": "stdout",
     "output_type": "stream",
     "text": [
      "Wilcoxon Signed-Rank Test statistic: 0.0\n",
      "p-value: 0.0625\n",
      "Do not reject the null\n",
      "We do not have sufficient evidence to conclude that there is a significant\n",
      "difference between the weights before and after the diet program\n"
     ]
    }
   ],
   "source": [
    "import numpy as np\n",
    "from scipy.stats import wilcoxon\n",
    "\n",
    "# Example data: weights before and after a diet program\n",
    "# Is there a significant difference in weights after going on the diet program\n",
    "before = np.array([70, 80, 90, 60, 75])\n",
    "after = np.array([68, 78, 85, 59, 73])\n",
    "\n",
    "# Calculate the differences\n",
    "differences = after - before\n",
    "\n",
    "# Perform the Wilcoxon Signed-Rank Test\n",
    "stat, p_value = wilcoxon(differences)\n",
    "\n",
    "# Output the results\n",
    "print(f'Wilcoxon Signed-Rank Test statistic: {stat}')\n",
    "print(f'p-value: {p_value}')\n",
    "\n",
    "# interpretation\n",
    "if p_value <= 0.05:\n",
    "    print(\"Reject the null Hypotheses\")\n",
    "    \n",
    "else:\n",
    "    print(\"Do not reject the null\")\n",
    "    print(\"We do not have sufficient evidence to conclude that there is a significant\\ndifference between the weights before and after the diet program.\")"
   ]
  },
  {
   "cell_type": "code",
   "execution_count": null,
   "id": "202d6615",
   "metadata": {},
   "outputs": [],
   "source": []
  }
 ],
 "metadata": {
  "kernelspec": {
   "display_name": "Python 3 (ipykernel)",
   "language": "python",
   "name": "python3"
  },
  "language_info": {
   "codemirror_mode": {
    "name": "ipython",
    "version": 3
   },
   "file_extension": ".py",
   "mimetype": "text/x-python",
   "name": "python",
   "nbconvert_exporter": "python",
   "pygments_lexer": "ipython3",
   "version": "3.11.4"
  }
 },
 "nbformat": 4,
 "nbformat_minor": 5
}
